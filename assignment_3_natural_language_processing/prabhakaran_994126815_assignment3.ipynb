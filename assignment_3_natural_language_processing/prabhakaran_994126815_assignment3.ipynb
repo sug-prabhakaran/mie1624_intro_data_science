{
  "nbformat": 4,
  "nbformat_minor": 0,
  "metadata": {
    "colab": {
      "name": "prabhakaran_994126815_assignment3.ipynb",
      "provenance": [],
      "collapsed_sections": []
    },
    "kernelspec": {
      "name": "python3",
      "display_name": "Python 3"
    },
    "language_info": {
      "name": "python"
    },
    "widgets": {
      "application/vnd.jupyter.widget-state+json": {
        "e1210573a08c4b7bbbf7e306131ded6e": {
          "model_module": "@jupyter-widgets/controls",
          "model_name": "HBoxModel",
          "state": {
            "_view_name": "HBoxView",
            "_dom_classes": [],
            "_model_name": "HBoxModel",
            "_view_module": "@jupyter-widgets/controls",
            "_model_module_version": "1.5.0",
            "_view_count": null,
            "_view_module_version": "1.5.0",
            "box_style": "",
            "layout": "IPY_MODEL_e6761945a3df41a5bd1f862dc4bef9d1",
            "_model_module": "@jupyter-widgets/controls",
            "children": [
              "IPY_MODEL_993e6855d1674bd295da68cf38044178",
              "IPY_MODEL_2340e34809654d1396acb084337f9fbe"
            ]
          }
        },
        "e6761945a3df41a5bd1f862dc4bef9d1": {
          "model_module": "@jupyter-widgets/base",
          "model_name": "LayoutModel",
          "state": {
            "_view_name": "LayoutView",
            "grid_template_rows": null,
            "right": null,
            "justify_content": null,
            "_view_module": "@jupyter-widgets/base",
            "overflow": null,
            "_model_module_version": "1.2.0",
            "_view_count": null,
            "flex_flow": null,
            "width": null,
            "min_width": null,
            "border": null,
            "align_items": null,
            "bottom": null,
            "_model_module": "@jupyter-widgets/base",
            "top": null,
            "grid_column": null,
            "overflow_y": null,
            "overflow_x": null,
            "grid_auto_flow": null,
            "grid_area": null,
            "grid_template_columns": null,
            "flex": null,
            "_model_name": "LayoutModel",
            "justify_items": null,
            "grid_row": null,
            "max_height": null,
            "align_content": null,
            "visibility": null,
            "align_self": null,
            "height": null,
            "min_height": null,
            "padding": null,
            "grid_auto_rows": null,
            "grid_gap": null,
            "max_width": null,
            "order": null,
            "_view_module_version": "1.2.0",
            "grid_template_areas": null,
            "object_position": null,
            "object_fit": null,
            "grid_auto_columns": null,
            "margin": null,
            "display": null,
            "left": null
          }
        },
        "993e6855d1674bd295da68cf38044178": {
          "model_module": "@jupyter-widgets/controls",
          "model_name": "FloatProgressModel",
          "state": {
            "_view_name": "ProgressView",
            "style": "IPY_MODEL_7b9644fbbde74dbb90624d20e0c3900d",
            "_dom_classes": [],
            "description": "stemming...: 100%",
            "_model_name": "FloatProgressModel",
            "bar_style": "success",
            "max": 550391,
            "_view_module": "@jupyter-widgets/controls",
            "_model_module_version": "1.5.0",
            "value": 550391,
            "_view_count": null,
            "_view_module_version": "1.5.0",
            "orientation": "horizontal",
            "min": 0,
            "description_tooltip": null,
            "_model_module": "@jupyter-widgets/controls",
            "layout": "IPY_MODEL_b672c539ee1c408c84325e4db999af41"
          }
        },
        "2340e34809654d1396acb084337f9fbe": {
          "model_module": "@jupyter-widgets/controls",
          "model_name": "HTMLModel",
          "state": {
            "_view_name": "HTMLView",
            "style": "IPY_MODEL_27d21e717ec84094a70127e8d355d0f1",
            "_dom_classes": [],
            "description": "",
            "_model_name": "HTMLModel",
            "placeholder": "​",
            "_view_module": "@jupyter-widgets/controls",
            "_model_module_version": "1.5.0",
            "value": " 550391/550391 [03:03&lt;00:00, 3003.50it/s]",
            "_view_count": null,
            "_view_module_version": "1.5.0",
            "description_tooltip": null,
            "_model_module": "@jupyter-widgets/controls",
            "layout": "IPY_MODEL_3eb02474718a4507a548eed5194d55bd"
          }
        },
        "7b9644fbbde74dbb90624d20e0c3900d": {
          "model_module": "@jupyter-widgets/controls",
          "model_name": "ProgressStyleModel",
          "state": {
            "_view_name": "StyleView",
            "_model_name": "ProgressStyleModel",
            "description_width": "initial",
            "_view_module": "@jupyter-widgets/base",
            "_model_module_version": "1.5.0",
            "_view_count": null,
            "_view_module_version": "1.2.0",
            "bar_color": null,
            "_model_module": "@jupyter-widgets/controls"
          }
        },
        "b672c539ee1c408c84325e4db999af41": {
          "model_module": "@jupyter-widgets/base",
          "model_name": "LayoutModel",
          "state": {
            "_view_name": "LayoutView",
            "grid_template_rows": null,
            "right": null,
            "justify_content": null,
            "_view_module": "@jupyter-widgets/base",
            "overflow": null,
            "_model_module_version": "1.2.0",
            "_view_count": null,
            "flex_flow": null,
            "width": null,
            "min_width": null,
            "border": null,
            "align_items": null,
            "bottom": null,
            "_model_module": "@jupyter-widgets/base",
            "top": null,
            "grid_column": null,
            "overflow_y": null,
            "overflow_x": null,
            "grid_auto_flow": null,
            "grid_area": null,
            "grid_template_columns": null,
            "flex": null,
            "_model_name": "LayoutModel",
            "justify_items": null,
            "grid_row": null,
            "max_height": null,
            "align_content": null,
            "visibility": null,
            "align_self": null,
            "height": null,
            "min_height": null,
            "padding": null,
            "grid_auto_rows": null,
            "grid_gap": null,
            "max_width": null,
            "order": null,
            "_view_module_version": "1.2.0",
            "grid_template_areas": null,
            "object_position": null,
            "object_fit": null,
            "grid_auto_columns": null,
            "margin": null,
            "display": null,
            "left": null
          }
        },
        "27d21e717ec84094a70127e8d355d0f1": {
          "model_module": "@jupyter-widgets/controls",
          "model_name": "DescriptionStyleModel",
          "state": {
            "_view_name": "StyleView",
            "_model_name": "DescriptionStyleModel",
            "description_width": "",
            "_view_module": "@jupyter-widgets/base",
            "_model_module_version": "1.5.0",
            "_view_count": null,
            "_view_module_version": "1.2.0",
            "_model_module": "@jupyter-widgets/controls"
          }
        },
        "3eb02474718a4507a548eed5194d55bd": {
          "model_module": "@jupyter-widgets/base",
          "model_name": "LayoutModel",
          "state": {
            "_view_name": "LayoutView",
            "grid_template_rows": null,
            "right": null,
            "justify_content": null,
            "_view_module": "@jupyter-widgets/base",
            "overflow": null,
            "_model_module_version": "1.2.0",
            "_view_count": null,
            "flex_flow": null,
            "width": null,
            "min_width": null,
            "border": null,
            "align_items": null,
            "bottom": null,
            "_model_module": "@jupyter-widgets/base",
            "top": null,
            "grid_column": null,
            "overflow_y": null,
            "overflow_x": null,
            "grid_auto_flow": null,
            "grid_area": null,
            "grid_template_columns": null,
            "flex": null,
            "_model_name": "LayoutModel",
            "justify_items": null,
            "grid_row": null,
            "max_height": null,
            "align_content": null,
            "visibility": null,
            "align_self": null,
            "height": null,
            "min_height": null,
            "padding": null,
            "grid_auto_rows": null,
            "grid_gap": null,
            "max_width": null,
            "order": null,
            "_view_module_version": "1.2.0",
            "grid_template_areas": null,
            "object_position": null,
            "object_fit": null,
            "grid_auto_columns": null,
            "margin": null,
            "display": null,
            "left": null
          }
        },
        "8c362fcd264e4b61bb3fd40ce21d27d4": {
          "model_module": "@jupyter-widgets/controls",
          "model_name": "HBoxModel",
          "state": {
            "_view_name": "HBoxView",
            "_dom_classes": [],
            "_model_name": "HBoxModel",
            "_view_module": "@jupyter-widgets/controls",
            "_model_module_version": "1.5.0",
            "_view_count": null,
            "_view_module_version": "1.5.0",
            "box_style": "",
            "layout": "IPY_MODEL_2fde39dfd65d4a63a293b18c930c08fc",
            "_model_module": "@jupyter-widgets/controls",
            "children": [
              "IPY_MODEL_1488b062057a4b3aae0c846526a120ff",
              "IPY_MODEL_581b0eda6ec24d1ba7210d1b4fc75be0"
            ]
          }
        },
        "2fde39dfd65d4a63a293b18c930c08fc": {
          "model_module": "@jupyter-widgets/base",
          "model_name": "LayoutModel",
          "state": {
            "_view_name": "LayoutView",
            "grid_template_rows": null,
            "right": null,
            "justify_content": null,
            "_view_module": "@jupyter-widgets/base",
            "overflow": null,
            "_model_module_version": "1.2.0",
            "_view_count": null,
            "flex_flow": null,
            "width": null,
            "min_width": null,
            "border": null,
            "align_items": null,
            "bottom": null,
            "_model_module": "@jupyter-widgets/base",
            "top": null,
            "grid_column": null,
            "overflow_y": null,
            "overflow_x": null,
            "grid_auto_flow": null,
            "grid_area": null,
            "grid_template_columns": null,
            "flex": null,
            "_model_name": "LayoutModel",
            "justify_items": null,
            "grid_row": null,
            "max_height": null,
            "align_content": null,
            "visibility": null,
            "align_self": null,
            "height": null,
            "min_height": null,
            "padding": null,
            "grid_auto_rows": null,
            "grid_gap": null,
            "max_width": null,
            "order": null,
            "_view_module_version": "1.2.0",
            "grid_template_areas": null,
            "object_position": null,
            "object_fit": null,
            "grid_auto_columns": null,
            "margin": null,
            "display": null,
            "left": null
          }
        },
        "1488b062057a4b3aae0c846526a120ff": {
          "model_module": "@jupyter-widgets/controls",
          "model_name": "FloatProgressModel",
          "state": {
            "_view_name": "ProgressView",
            "style": "IPY_MODEL_f0d3bcdffef94941b8dde891eecfe69c",
            "_dom_classes": [],
            "description": "stemming...: 100%",
            "_model_name": "FloatProgressModel",
            "bar_style": "success",
            "max": 2133,
            "_view_module": "@jupyter-widgets/controls",
            "_model_module_version": "1.5.0",
            "value": 2133,
            "_view_count": null,
            "_view_module_version": "1.5.0",
            "orientation": "horizontal",
            "min": 0,
            "description_tooltip": null,
            "_model_module": "@jupyter-widgets/controls",
            "layout": "IPY_MODEL_083be2d21fc64420b4339bf62086bdc4"
          }
        },
        "581b0eda6ec24d1ba7210d1b4fc75be0": {
          "model_module": "@jupyter-widgets/controls",
          "model_name": "HTMLModel",
          "state": {
            "_view_name": "HTMLView",
            "style": "IPY_MODEL_9344920a43a74a50a72fd553d87e7a87",
            "_dom_classes": [],
            "description": "",
            "_model_name": "HTMLModel",
            "placeholder": "​",
            "_view_module": "@jupyter-widgets/controls",
            "_model_module_version": "1.5.0",
            "value": " 2133/2133 [00:05&lt;00:00, 413.94it/s]",
            "_view_count": null,
            "_view_module_version": "1.5.0",
            "description_tooltip": null,
            "_model_module": "@jupyter-widgets/controls",
            "layout": "IPY_MODEL_17c493c9e76e498e8feec90c589aacb2"
          }
        },
        "f0d3bcdffef94941b8dde891eecfe69c": {
          "model_module": "@jupyter-widgets/controls",
          "model_name": "ProgressStyleModel",
          "state": {
            "_view_name": "StyleView",
            "_model_name": "ProgressStyleModel",
            "description_width": "initial",
            "_view_module": "@jupyter-widgets/base",
            "_model_module_version": "1.5.0",
            "_view_count": null,
            "_view_module_version": "1.2.0",
            "bar_color": null,
            "_model_module": "@jupyter-widgets/controls"
          }
        },
        "083be2d21fc64420b4339bf62086bdc4": {
          "model_module": "@jupyter-widgets/base",
          "model_name": "LayoutModel",
          "state": {
            "_view_name": "LayoutView",
            "grid_template_rows": null,
            "right": null,
            "justify_content": null,
            "_view_module": "@jupyter-widgets/base",
            "overflow": null,
            "_model_module_version": "1.2.0",
            "_view_count": null,
            "flex_flow": null,
            "width": null,
            "min_width": null,
            "border": null,
            "align_items": null,
            "bottom": null,
            "_model_module": "@jupyter-widgets/base",
            "top": null,
            "grid_column": null,
            "overflow_y": null,
            "overflow_x": null,
            "grid_auto_flow": null,
            "grid_area": null,
            "grid_template_columns": null,
            "flex": null,
            "_model_name": "LayoutModel",
            "justify_items": null,
            "grid_row": null,
            "max_height": null,
            "align_content": null,
            "visibility": null,
            "align_self": null,
            "height": null,
            "min_height": null,
            "padding": null,
            "grid_auto_rows": null,
            "grid_gap": null,
            "max_width": null,
            "order": null,
            "_view_module_version": "1.2.0",
            "grid_template_areas": null,
            "object_position": null,
            "object_fit": null,
            "grid_auto_columns": null,
            "margin": null,
            "display": null,
            "left": null
          }
        },
        "9344920a43a74a50a72fd553d87e7a87": {
          "model_module": "@jupyter-widgets/controls",
          "model_name": "DescriptionStyleModel",
          "state": {
            "_view_name": "StyleView",
            "_model_name": "DescriptionStyleModel",
            "description_width": "",
            "_view_module": "@jupyter-widgets/base",
            "_model_module_version": "1.5.0",
            "_view_count": null,
            "_view_module_version": "1.2.0",
            "_model_module": "@jupyter-widgets/controls"
          }
        },
        "17c493c9e76e498e8feec90c589aacb2": {
          "model_module": "@jupyter-widgets/base",
          "model_name": "LayoutModel",
          "state": {
            "_view_name": "LayoutView",
            "grid_template_rows": null,
            "right": null,
            "justify_content": null,
            "_view_module": "@jupyter-widgets/base",
            "overflow": null,
            "_model_module_version": "1.2.0",
            "_view_count": null,
            "flex_flow": null,
            "width": null,
            "min_width": null,
            "border": null,
            "align_items": null,
            "bottom": null,
            "_model_module": "@jupyter-widgets/base",
            "top": null,
            "grid_column": null,
            "overflow_y": null,
            "overflow_x": null,
            "grid_auto_flow": null,
            "grid_area": null,
            "grid_template_columns": null,
            "flex": null,
            "_model_name": "LayoutModel",
            "justify_items": null,
            "grid_row": null,
            "max_height": null,
            "align_content": null,
            "visibility": null,
            "align_self": null,
            "height": null,
            "min_height": null,
            "padding": null,
            "grid_auto_rows": null,
            "grid_gap": null,
            "max_width": null,
            "order": null,
            "_view_module_version": "1.2.0",
            "grid_template_areas": null,
            "object_position": null,
            "object_fit": null,
            "grid_auto_columns": null,
            "margin": null,
            "display": null,
            "left": null
          }
        },
        "ee2d25b55b5943318fbcfcd308f99176": {
          "model_module": "@jupyter-widgets/controls",
          "model_name": "HBoxModel",
          "state": {
            "_view_name": "HBoxView",
            "_dom_classes": [],
            "_model_name": "HBoxModel",
            "_view_module": "@jupyter-widgets/controls",
            "_model_module_version": "1.5.0",
            "_view_count": null,
            "_view_module_version": "1.5.0",
            "box_style": "",
            "layout": "IPY_MODEL_4175eaf2894c46faa93afb1646931489",
            "_model_module": "@jupyter-widgets/controls",
            "children": [
              "IPY_MODEL_63017f2bcd8e4c3eb2825d9b46fd001b",
              "IPY_MODEL_bde39ef744c34b0cb1e69a4849dafdd6"
            ]
          }
        },
        "4175eaf2894c46faa93afb1646931489": {
          "model_module": "@jupyter-widgets/base",
          "model_name": "LayoutModel",
          "state": {
            "_view_name": "LayoutView",
            "grid_template_rows": null,
            "right": null,
            "justify_content": null,
            "_view_module": "@jupyter-widgets/base",
            "overflow": null,
            "_model_module_version": "1.2.0",
            "_view_count": null,
            "flex_flow": null,
            "width": null,
            "min_width": null,
            "border": null,
            "align_items": null,
            "bottom": null,
            "_model_module": "@jupyter-widgets/base",
            "top": null,
            "grid_column": null,
            "overflow_y": null,
            "overflow_x": null,
            "grid_auto_flow": null,
            "grid_area": null,
            "grid_template_columns": null,
            "flex": null,
            "_model_name": "LayoutModel",
            "justify_items": null,
            "grid_row": null,
            "max_height": null,
            "align_content": null,
            "visibility": null,
            "align_self": null,
            "height": null,
            "min_height": null,
            "padding": null,
            "grid_auto_rows": null,
            "grid_gap": null,
            "max_width": null,
            "order": null,
            "_view_module_version": "1.2.0",
            "grid_template_areas": null,
            "object_position": null,
            "object_fit": null,
            "grid_auto_columns": null,
            "margin": null,
            "display": null,
            "left": null
          }
        },
        "63017f2bcd8e4c3eb2825d9b46fd001b": {
          "model_module": "@jupyter-widgets/controls",
          "model_name": "FloatProgressModel",
          "state": {
            "_view_name": "ProgressView",
            "style": "IPY_MODEL_785effc6ba7747a7acc0dc667ce9ad0d",
            "_dom_classes": [],
            "description": "Implementing Model: KNN: 100%",
            "_model_name": "FloatProgressModel",
            "bar_style": "success",
            "max": 7,
            "_view_module": "@jupyter-widgets/controls",
            "_model_module_version": "1.5.0",
            "value": 7,
            "_view_count": null,
            "_view_module_version": "1.5.0",
            "orientation": "horizontal",
            "min": 0,
            "description_tooltip": null,
            "_model_module": "@jupyter-widgets/controls",
            "layout": "IPY_MODEL_5f692819516c426f834f23e89a96c0ab"
          }
        },
        "bde39ef744c34b0cb1e69a4849dafdd6": {
          "model_module": "@jupyter-widgets/controls",
          "model_name": "HTMLModel",
          "state": {
            "_view_name": "HTMLView",
            "style": "IPY_MODEL_eb142abc19374484b494b824091aa79a",
            "_dom_classes": [],
            "description": "",
            "_model_name": "HTMLModel",
            "placeholder": "​",
            "_view_module": "@jupyter-widgets/controls",
            "_model_module_version": "1.5.0",
            "value": " 7/7 [3:03:35&lt;00:00, 1573.62s/it]",
            "_view_count": null,
            "_view_module_version": "1.5.0",
            "description_tooltip": null,
            "_model_module": "@jupyter-widgets/controls",
            "layout": "IPY_MODEL_b061404582ee412c98e295b957225459"
          }
        },
        "785effc6ba7747a7acc0dc667ce9ad0d": {
          "model_module": "@jupyter-widgets/controls",
          "model_name": "ProgressStyleModel",
          "state": {
            "_view_name": "StyleView",
            "_model_name": "ProgressStyleModel",
            "description_width": "initial",
            "_view_module": "@jupyter-widgets/base",
            "_model_module_version": "1.5.0",
            "_view_count": null,
            "_view_module_version": "1.2.0",
            "bar_color": null,
            "_model_module": "@jupyter-widgets/controls"
          }
        },
        "5f692819516c426f834f23e89a96c0ab": {
          "model_module": "@jupyter-widgets/base",
          "model_name": "LayoutModel",
          "state": {
            "_view_name": "LayoutView",
            "grid_template_rows": null,
            "right": null,
            "justify_content": null,
            "_view_module": "@jupyter-widgets/base",
            "overflow": null,
            "_model_module_version": "1.2.0",
            "_view_count": null,
            "flex_flow": null,
            "width": null,
            "min_width": null,
            "border": null,
            "align_items": null,
            "bottom": null,
            "_model_module": "@jupyter-widgets/base",
            "top": null,
            "grid_column": null,
            "overflow_y": null,
            "overflow_x": null,
            "grid_auto_flow": null,
            "grid_area": null,
            "grid_template_columns": null,
            "flex": null,
            "_model_name": "LayoutModel",
            "justify_items": null,
            "grid_row": null,
            "max_height": null,
            "align_content": null,
            "visibility": null,
            "align_self": null,
            "height": null,
            "min_height": null,
            "padding": null,
            "grid_auto_rows": null,
            "grid_gap": null,
            "max_width": null,
            "order": null,
            "_view_module_version": "1.2.0",
            "grid_template_areas": null,
            "object_position": null,
            "object_fit": null,
            "grid_auto_columns": null,
            "margin": null,
            "display": null,
            "left": null
          }
        },
        "eb142abc19374484b494b824091aa79a": {
          "model_module": "@jupyter-widgets/controls",
          "model_name": "DescriptionStyleModel",
          "state": {
            "_view_name": "StyleView",
            "_model_name": "DescriptionStyleModel",
            "description_width": "",
            "_view_module": "@jupyter-widgets/base",
            "_model_module_version": "1.5.0",
            "_view_count": null,
            "_view_module_version": "1.2.0",
            "_model_module": "@jupyter-widgets/controls"
          }
        },
        "b061404582ee412c98e295b957225459": {
          "model_module": "@jupyter-widgets/base",
          "model_name": "LayoutModel",
          "state": {
            "_view_name": "LayoutView",
            "grid_template_rows": null,
            "right": null,
            "justify_content": null,
            "_view_module": "@jupyter-widgets/base",
            "overflow": null,
            "_model_module_version": "1.2.0",
            "_view_count": null,
            "flex_flow": null,
            "width": null,
            "min_width": null,
            "border": null,
            "align_items": null,
            "bottom": null,
            "_model_module": "@jupyter-widgets/base",
            "top": null,
            "grid_column": null,
            "overflow_y": null,
            "overflow_x": null,
            "grid_auto_flow": null,
            "grid_area": null,
            "grid_template_columns": null,
            "flex": null,
            "_model_name": "LayoutModel",
            "justify_items": null,
            "grid_row": null,
            "max_height": null,
            "align_content": null,
            "visibility": null,
            "align_self": null,
            "height": null,
            "min_height": null,
            "padding": null,
            "grid_auto_rows": null,
            "grid_gap": null,
            "max_width": null,
            "order": null,
            "_view_module_version": "1.2.0",
            "grid_template_areas": null,
            "object_position": null,
            "object_fit": null,
            "grid_auto_columns": null,
            "margin": null,
            "display": null,
            "left": null
          }
        },
        "2418d57f04c64af5a7c66bcaa8be4b3f": {
          "model_module": "@jupyter-widgets/controls",
          "model_name": "HBoxModel",
          "state": {
            "_view_name": "HBoxView",
            "_dom_classes": [],
            "_model_name": "HBoxModel",
            "_view_module": "@jupyter-widgets/controls",
            "_model_module_version": "1.5.0",
            "_view_count": null,
            "_view_module_version": "1.5.0",
            "box_style": "",
            "layout": "IPY_MODEL_fc8f0d504e2b483487f7604786c21320",
            "_model_module": "@jupyter-widgets/controls",
            "children": [
              "IPY_MODEL_46c0ff7bcf0146028c272527efc3dc63",
              "IPY_MODEL_640d6b1269434fd581103db9d18b74a4"
            ]
          }
        },
        "fc8f0d504e2b483487f7604786c21320": {
          "model_module": "@jupyter-widgets/base",
          "model_name": "LayoutModel",
          "state": {
            "_view_name": "LayoutView",
            "grid_template_rows": null,
            "right": null,
            "justify_content": null,
            "_view_module": "@jupyter-widgets/base",
            "overflow": null,
            "_model_module_version": "1.2.0",
            "_view_count": null,
            "flex_flow": null,
            "width": null,
            "min_width": null,
            "border": null,
            "align_items": null,
            "bottom": null,
            "_model_module": "@jupyter-widgets/base",
            "top": null,
            "grid_column": null,
            "overflow_y": null,
            "overflow_x": null,
            "grid_auto_flow": null,
            "grid_area": null,
            "grid_template_columns": null,
            "flex": null,
            "_model_name": "LayoutModel",
            "justify_items": null,
            "grid_row": null,
            "max_height": null,
            "align_content": null,
            "visibility": null,
            "align_self": null,
            "height": null,
            "min_height": null,
            "padding": null,
            "grid_auto_rows": null,
            "grid_gap": null,
            "max_width": null,
            "order": null,
            "_view_module_version": "1.2.0",
            "grid_template_areas": null,
            "object_position": null,
            "object_fit": null,
            "grid_auto_columns": null,
            "margin": null,
            "display": null,
            "left": null
          }
        },
        "46c0ff7bcf0146028c272527efc3dc63": {
          "model_module": "@jupyter-widgets/controls",
          "model_name": "FloatProgressModel",
          "state": {
            "_view_name": "ProgressView",
            "style": "IPY_MODEL_bf6b1ac0d8964f20afd7cdb9567d253d",
            "_dom_classes": [],
            "description": "Implementing Model: KNN: 100%",
            "_model_name": "FloatProgressModel",
            "bar_style": "success",
            "max": 7,
            "_view_module": "@jupyter-widgets/controls",
            "_model_module_version": "1.5.0",
            "value": 7,
            "_view_count": null,
            "_view_module_version": "1.5.0",
            "orientation": "horizontal",
            "min": 0,
            "description_tooltip": null,
            "_model_module": "@jupyter-widgets/controls",
            "layout": "IPY_MODEL_ad46d7795b5a45588251b811549b1081"
          }
        },
        "640d6b1269434fd581103db9d18b74a4": {
          "model_module": "@jupyter-widgets/controls",
          "model_name": "HTMLModel",
          "state": {
            "_view_name": "HTMLView",
            "style": "IPY_MODEL_626411f4970448d6bb1f19df61770fa0",
            "_dom_classes": [],
            "description": "",
            "_model_name": "HTMLModel",
            "placeholder": "​",
            "_view_module": "@jupyter-widgets/controls",
            "_model_module_version": "1.5.0",
            "value": " 7/7 [1:46:06&lt;00:00, 909.49s/it]",
            "_view_count": null,
            "_view_module_version": "1.5.0",
            "description_tooltip": null,
            "_model_module": "@jupyter-widgets/controls",
            "layout": "IPY_MODEL_9b91639689ad4e19834c1a7a260e6a1e"
          }
        },
        "bf6b1ac0d8964f20afd7cdb9567d253d": {
          "model_module": "@jupyter-widgets/controls",
          "model_name": "ProgressStyleModel",
          "state": {
            "_view_name": "StyleView",
            "_model_name": "ProgressStyleModel",
            "description_width": "initial",
            "_view_module": "@jupyter-widgets/base",
            "_model_module_version": "1.5.0",
            "_view_count": null,
            "_view_module_version": "1.2.0",
            "bar_color": null,
            "_model_module": "@jupyter-widgets/controls"
          }
        },
        "ad46d7795b5a45588251b811549b1081": {
          "model_module": "@jupyter-widgets/base",
          "model_name": "LayoutModel",
          "state": {
            "_view_name": "LayoutView",
            "grid_template_rows": null,
            "right": null,
            "justify_content": null,
            "_view_module": "@jupyter-widgets/base",
            "overflow": null,
            "_model_module_version": "1.2.0",
            "_view_count": null,
            "flex_flow": null,
            "width": null,
            "min_width": null,
            "border": null,
            "align_items": null,
            "bottom": null,
            "_model_module": "@jupyter-widgets/base",
            "top": null,
            "grid_column": null,
            "overflow_y": null,
            "overflow_x": null,
            "grid_auto_flow": null,
            "grid_area": null,
            "grid_template_columns": null,
            "flex": null,
            "_model_name": "LayoutModel",
            "justify_items": null,
            "grid_row": null,
            "max_height": null,
            "align_content": null,
            "visibility": null,
            "align_self": null,
            "height": null,
            "min_height": null,
            "padding": null,
            "grid_auto_rows": null,
            "grid_gap": null,
            "max_width": null,
            "order": null,
            "_view_module_version": "1.2.0",
            "grid_template_areas": null,
            "object_position": null,
            "object_fit": null,
            "grid_auto_columns": null,
            "margin": null,
            "display": null,
            "left": null
          }
        },
        "626411f4970448d6bb1f19df61770fa0": {
          "model_module": "@jupyter-widgets/controls",
          "model_name": "DescriptionStyleModel",
          "state": {
            "_view_name": "StyleView",
            "_model_name": "DescriptionStyleModel",
            "description_width": "",
            "_view_module": "@jupyter-widgets/base",
            "_model_module_version": "1.5.0",
            "_view_count": null,
            "_view_module_version": "1.2.0",
            "_model_module": "@jupyter-widgets/controls"
          }
        },
        "9b91639689ad4e19834c1a7a260e6a1e": {
          "model_module": "@jupyter-widgets/base",
          "model_name": "LayoutModel",
          "state": {
            "_view_name": "LayoutView",
            "grid_template_rows": null,
            "right": null,
            "justify_content": null,
            "_view_module": "@jupyter-widgets/base",
            "overflow": null,
            "_model_module_version": "1.2.0",
            "_view_count": null,
            "flex_flow": null,
            "width": null,
            "min_width": null,
            "border": null,
            "align_items": null,
            "bottom": null,
            "_model_module": "@jupyter-widgets/base",
            "top": null,
            "grid_column": null,
            "overflow_y": null,
            "overflow_x": null,
            "grid_auto_flow": null,
            "grid_area": null,
            "grid_template_columns": null,
            "flex": null,
            "_model_name": "LayoutModel",
            "justify_items": null,
            "grid_row": null,
            "max_height": null,
            "align_content": null,
            "visibility": null,
            "align_self": null,
            "height": null,
            "min_height": null,
            "padding": null,
            "grid_auto_rows": null,
            "grid_gap": null,
            "max_width": null,
            "order": null,
            "_view_module_version": "1.2.0",
            "grid_template_areas": null,
            "object_position": null,
            "object_fit": null,
            "grid_auto_columns": null,
            "margin": null,
            "display": null,
            "left": null
          }
        }
      }
    }
  },
  "cells": [
    {
      "cell_type": "markdown",
      "metadata": {
        "id": "CfjK4_ifWYhA"
      },
      "source": [
        "# **Assignment 3 - Sentiment Analysis for 2019 Canadian Election**\n",
        "\n",
        "**Course**: MIE1624 - Introduction to Data Science and Analytics\n",
        "\n",
        "**Professor**: Dr. Oleksandr Romanko, PhD.\n",
        "\n",
        "**Due Date**:  11:59pm, 29 Mar 2021\n",
        "\n",
        "**Student**:  Sugumar Prabhakaran (**id#**: 994126815)"
      ]
    },
    {
      "cell_type": "code",
      "metadata": {
        "id": "3R9A2bDX2aZk",
        "colab": {
          "base_uri": "https://localhost:8080/"
        },
        "outputId": "c7119e5f-907f-42ef-99ef-344cdef2007e"
      },
      "source": [
        "#collection of all imported libraries used in this project\n",
        "import pandas as pd\n",
        "import numpy as np\n",
        "import matplotlib.pyplot as plt\n",
        "import seaborn as sns\n",
        "\n",
        "#DATA CLEANING\n",
        "import re                                       # regular expressions\n",
        "import html                                     # convert html to ascii\n",
        "import nltk                                     \n",
        "from nltk.tokenize import word_tokenize         # split text into word-list\n",
        "from nltk.corpus import stopwords               # collection of stop words\n",
        "nltk.download('punkt')\n",
        "nltk.download('stopwords')\n",
        "from nltk.stem import PorterStemmer             # stem words\n",
        "\n",
        "#EXPLORATORY DATA ANALYSIS\n",
        "from collections import defaultdict\n",
        "from wordcloud import WordCloud\n",
        "\n",
        "#PREPROCESSING\n",
        "from sklearn.model_selection import train_test_split\n",
        "from sklearn.feature_extraction.text import CountVectorizer\n",
        "from sklearn.feature_extraction.text import TfidfVectorizer\n",
        "from sklearn.decomposition import TruncatedSVD\n",
        "\n",
        "#ML MODELS\n",
        "from tqdm.notebook import tqdm_notebook, trange # progress bar\n",
        "import time                                     # to track execution time\n",
        "from sklearn.linear_model import LogisticRegression\n",
        "from sklearn.neighbors import KNeighborsClassifier\n",
        "from sklearn.naive_bayes import GaussianNB  \n",
        "from sklearn.svm import LinearSVC               # Support Vector Classifier\n",
        "from sklearn.tree import DecisionTreeClassifier\n",
        "from sklearn.ensemble import RandomForestClassifier\n",
        "from xgboost import XGBClassifier\n",
        "from sklearn.metrics import accuracy_score, f1_score\n",
        "\n",
        "#HYPERPARAMETER TUNING\n",
        "from sklearn.model_selection import GridSearchCV\n",
        "from sklearn.model_selection import GridSearchCV\n",
        "from sklearn.preprocessing import PowerTransformer"
      ],
      "execution_count": 1,
      "outputs": [
        {
          "output_type": "stream",
          "text": [
            "[nltk_data] Downloading package punkt to /root/nltk_data...\n",
            "[nltk_data]   Unzipping tokenizers/punkt.zip.\n",
            "[nltk_data] Downloading package stopwords to /root/nltk_data...\n",
            "[nltk_data]   Unzipping corpora/stopwords.zip.\n"
          ],
          "name": "stdout"
        }
      ]
    },
    {
      "cell_type": "code",
      "metadata": {
        "colab": {
          "base_uri": "https://localhost:8080/",
          "height": 233
        },
        "id": "uPz5TjEdXbFQ",
        "outputId": "77dae141-e7a3-4878-8c2b-e1cac5576ea1"
      },
      "source": [
        "# read sentiment_analysis.csv file\n",
        "df = pd.read_csv('sentiment_analysis.csv', low_memory=False)\n",
        "print(\"df shape: \", df.shape, '\\n')\n",
        "df.head()"
      ],
      "execution_count": 2,
      "outputs": [
        {
          "output_type": "stream",
          "text": [
            "df shape:  (550391, 3) \n",
            "\n"
          ],
          "name": "stdout"
        },
        {
          "output_type": "execute_result",
          "data": {
            "text/html": [
              "<div>\n",
              "<style scoped>\n",
              "    .dataframe tbody tr th:only-of-type {\n",
              "        vertical-align: middle;\n",
              "    }\n",
              "\n",
              "    .dataframe tbody tr th {\n",
              "        vertical-align: top;\n",
              "    }\n",
              "\n",
              "    .dataframe thead th {\n",
              "        text-align: right;\n",
              "    }\n",
              "</style>\n",
              "<table border=\"1\" class=\"dataframe\">\n",
              "  <thead>\n",
              "    <tr style=\"text-align: right;\">\n",
              "      <th></th>\n",
              "      <th>ID</th>\n",
              "      <th>text</th>\n",
              "      <th>label</th>\n",
              "    </tr>\n",
              "  </thead>\n",
              "  <tbody>\n",
              "    <tr>\n",
              "      <th>0</th>\n",
              "      <td>7.680980e+17</td>\n",
              "      <td>Josh Jenkins is looking forward to TAB Breeder...</td>\n",
              "      <td>1</td>\n",
              "    </tr>\n",
              "    <tr>\n",
              "      <th>1</th>\n",
              "      <td>7.680980e+17</td>\n",
              "      <td>RT @MianUsmanJaved: Congratulations Pakistan o...</td>\n",
              "      <td>1</td>\n",
              "    </tr>\n",
              "    <tr>\n",
              "      <th>2</th>\n",
              "      <td>7.680980e+17</td>\n",
              "      <td>RT @PEPalerts: This September, @YESmag is taki...</td>\n",
              "      <td>1</td>\n",
              "    </tr>\n",
              "    <tr>\n",
              "      <th>3</th>\n",
              "      <td>7.680980e+17</td>\n",
              "      <td>RT @david_gaibis: Newly painted walls, thanks ...</td>\n",
              "      <td>1</td>\n",
              "    </tr>\n",
              "    <tr>\n",
              "      <th>4</th>\n",
              "      <td>7.680980e+17</td>\n",
              "      <td>RT @CedricFeschotte: Excited to announce: as o...</td>\n",
              "      <td>1</td>\n",
              "    </tr>\n",
              "  </tbody>\n",
              "</table>\n",
              "</div>"
            ],
            "text/plain": [
              "             ID                                               text  label\n",
              "0  7.680980e+17  Josh Jenkins is looking forward to TAB Breeder...      1\n",
              "1  7.680980e+17  RT @MianUsmanJaved: Congratulations Pakistan o...      1\n",
              "2  7.680980e+17  RT @PEPalerts: This September, @YESmag is taki...      1\n",
              "3  7.680980e+17  RT @david_gaibis: Newly painted walls, thanks ...      1\n",
              "4  7.680980e+17  RT @CedricFeschotte: Excited to announce: as o...      1"
            ]
          },
          "metadata": {
            "tags": []
          },
          "execution_count": 2
        }
      ]
    },
    {
      "cell_type": "markdown",
      "metadata": {
        "id": "9FyQ8VA5XbxH"
      },
      "source": [
        "### **1. Data Cleaning [20 marks]**\n",
        "\n",
        "The tweets, as given, are not in a form amenable to analysis –-- there is too much ‘noise’.  Therefore, the first step is to “clean” the data. Design a procedure that prepares the\n",
        "Twitter data for analysis by satisfying the requirements below.\n",
        "* All html tags and attributes (i.e., /<[^>]+>/) are removed.\n",
        "* Html character codes (i.e., &...;) are replaced with an ASCII equivalent.\n",
        "* All URLs are removed.\n",
        "* All characters in the text are in lowercase.\n",
        "* All stop words are removed. Be clear in what you consider as a stop word.\n",
        "* If a tweet is empty after pre-processing, it should be preserved as such."
      ]
    },
    {
      "cell_type": "code",
      "metadata": {
        "id": "_onbEfL_GaxQ"
      },
      "source": [
        "#References: \n",
        "# https://towardsdatascience.com/text-preprocessing-for-data-scientist-3d2419c8199d\n",
        "# https://medium.com/@jeevanchavan143/nlp-tokenization-stemming-lemmatization-bag-of-words-tf-idf-pos-7650f83c60be\n",
        "\n",
        "#1. REMOVE ALL HTML TAGS AND ATTRIBUTES OF FORM: '<'misc characters'>':\n",
        "def remove_tags(text):\n",
        "    text = re.sub(r'<[^>]+>', '', text)\n",
        "    text = re.sub(r'^RT|^b\"','', text) # 'RT' in generic and 'b\"' in election\n",
        "    text = re.sub(r'\\ {2,}','', text)   # remove spaces>2\n",
        "    return text\n",
        "\n",
        "#2. CONVERT HTML CHARACTER CODES TO ASCII\n",
        "def html_to_ascii(text):\n",
        "    return html.unescape(text)\n",
        "\n",
        "#3. REMOVE ALL URLS:\n",
        "def remove_urls(text):\n",
        "    return re.sub(r'http\\S+', '', text)\n",
        "\n",
        "#4. FOR LOWERCASE, USE LAMBDA FUNCTION (see batch_clean func. in next cell)\n",
        "\n",
        "#EXTRA 1. REMOVE USERS (Ex. @harry_potter, @batman): SENTIMENT_ANALYSIS ONLY\n",
        "def remove_users(text):\n",
        "    return re.sub(r'@\\S+', '', text)\n",
        "\n",
        "#EXTRA 2. REMOVE EMOJIS, PUNCTUATION & DIGITS:\n",
        "def remove_extras(text):\n",
        "    emoji_pattern = re.compile(\"[\"\n",
        "                           u\"\\U0001F600-\\U0001F64F\"  # emoticons\n",
        "                           u\"\\U0001F300-\\U0001F5FF\"  # symbols & pictographs\n",
        "                           u\"\\U0001F680-\\U0001F6FF\"  # transport & map symbols\n",
        "                           u\"\\U0001F1E0-\\U0001F1FF\"  # flags (iOS)\n",
        "                           u\"\\U00002702-\\U000027B0\"\n",
        "                           u\"\\U000024C2-\\U0001F251\"\n",
        "                           \"]+\", flags=re.UNICODE)\n",
        "    text = emoji_pattern.sub(r'', text)\n",
        "    text = re.sub(r'[^\\w\\s]','', text)\n",
        "    text = re.sub(r'[0-9]','', text)\n",
        "    return text\n",
        "\n",
        "#5A.REMOVE STOPWORDS:\n",
        "def remove_stopwords(text):\n",
        "    stop_words = set(stopwords.words('english'))\n",
        "    tokenized_list = word_tokenize(text)    # tokenize\n",
        "    filtered_list = [x for x in tokenized_list if x not in stop_words]\n",
        "    return ' '.join(filtered_list)          # untokenize\n",
        "\n",
        "#5B.STEM WORDS:\n",
        "def stem_words(text):\n",
        "    ps = PorterStemmer()\n",
        "    tokenized_list = word_tokenize(text)\n",
        "    stemmed_list = [ps.stem(x) for x in tokenized_list]\n",
        "    return ' '.join(stemmed_list)"
      ],
      "execution_count": 3,
      "outputs": []
    },
    {
      "cell_type": "code",
      "metadata": {
        "id": "Iiy3DhaD8PWq"
      },
      "source": [
        "# combine common cleaning tasks into 1 function: batch_clean to be used on both\n",
        "# Sentiment_Analysis.csv and Canadian_Election_2019.csv\n",
        "def batch_clean(Series):\n",
        "    Series = Series.apply(remove_tags)                  #1 remove tags\n",
        "    Series = Series.apply(html_to_ascii)                #2 html >> ascii\n",
        "    Series = Series.apply(remove_urls)                  #3 remove URLS\n",
        "    Series = Series.apply(lambda x: x.lower())          #4 lower_case\n",
        "    return Series"
      ],
      "execution_count": 4,
      "outputs": []
    },
    {
      "cell_type": "markdown",
      "metadata": {
        "id": "Pn0NeDScH_KK"
      },
      "source": [
        "#### **1.1 Data Cleaning - Generic Sentiment Analysis Twitter Data**\n",
        "\n",
        "In this section, we use the functions defined above to clean the generic twitter data from the file ***sentiment_analysis.csv***.\n",
        "\n",
        "Steps for cleaning this data-set:\n",
        "1. copy text into a new column\n",
        "2. use custom generic **batch_clean** function to:\n",
        "    * remove tags and urls\n",
        "    * convert html to ascii\n",
        "    * convert to lower case\n",
        "3. complete specific cleaning tasks for this dataset:\n",
        "    * remove usernames (ex. @harrypotter @soccer_kid)\n",
        "    * remove extras: emojis, punctuation and digits\n",
        "    * remove stop-words and conduct stemming"
      ]
    },
    {
      "cell_type": "code",
      "metadata": {
        "id": "3tJL5umy8sRv"
      },
      "source": [
        "df['clean_text'] = df['text'].astype(str)               #copy 'text' to new col\n",
        "df['clean_text'] = batch_clean(df['clean_text'])        #batch clean\n",
        "df['clean_text'] = df['clean_text'].apply(remove_users) #Extra 1. remove users\n",
        "df['clean_text'] = df['clean_text'].apply(remove_extras)#Extra 2. remove extras\n",
        "df['clean_text'] = df['clean_text'].apply(remove_stopwords)   "
      ],
      "execution_count": 5,
      "outputs": []
    },
    {
      "cell_type": "code",
      "metadata": {
        "id": "YD6oC5tdJ4WT",
        "colab": {
          "base_uri": "https://localhost:8080/",
          "height": 486
        },
        "outputId": "42d664f7-3923-41c0-d573-19085eeb81b0"
      },
      "source": [
        "pd.set_option('max_rows',100, 'max_colwidth', 150)\n",
        "df.head(10)"
      ],
      "execution_count": 6,
      "outputs": [
        {
          "output_type": "execute_result",
          "data": {
            "text/html": [
              "<div>\n",
              "<style scoped>\n",
              "    .dataframe tbody tr th:only-of-type {\n",
              "        vertical-align: middle;\n",
              "    }\n",
              "\n",
              "    .dataframe tbody tr th {\n",
              "        vertical-align: top;\n",
              "    }\n",
              "\n",
              "    .dataframe thead th {\n",
              "        text-align: right;\n",
              "    }\n",
              "</style>\n",
              "<table border=\"1\" class=\"dataframe\">\n",
              "  <thead>\n",
              "    <tr style=\"text-align: right;\">\n",
              "      <th></th>\n",
              "      <th>ID</th>\n",
              "      <th>text</th>\n",
              "      <th>label</th>\n",
              "      <th>clean_text</th>\n",
              "    </tr>\n",
              "  </thead>\n",
              "  <tbody>\n",
              "    <tr>\n",
              "      <th>0</th>\n",
              "      <td>7.680980e+17</td>\n",
              "      <td>Josh Jenkins is looking forward to TAB Breeders Crown Super Sunday https://t.co/antImqAo4Y https://t.co/ejnA78Sks0</td>\n",
              "      <td>1</td>\n",
              "      <td>josh jenkins looking forward tab breeders crown super sunday</td>\n",
              "    </tr>\n",
              "    <tr>\n",
              "      <th>1</th>\n",
              "      <td>7.680980e+17</td>\n",
              "      <td>RT @MianUsmanJaved: Congratulations Pakistan on becoming #No1TestTeam in the world against all odds! #JI_PakZindabadRallies https://t.co/1o…</td>\n",
              "      <td>1</td>\n",
              "      <td>congratulations pakistan becoming notestteam world odds ji_pakzindabadrallies</td>\n",
              "    </tr>\n",
              "    <tr>\n",
              "      <th>2</th>\n",
              "      <td>7.680980e+17</td>\n",
              "      <td>RT @PEPalerts: This September, @YESmag is taking you to Maine Mendoza’s surprise thanksgiving party she threw for her fans! https://t.co/oX…</td>\n",
              "      <td>1</td>\n",
              "      <td>september taking maine mendozas surprise thanksgiving party threw fans</td>\n",
              "    </tr>\n",
              "    <tr>\n",
              "      <th>3</th>\n",
              "      <td>7.680980e+17</td>\n",
              "      <td>RT @david_gaibis: Newly painted walls, thanks a million to our custodial painters this summer.  Great job ladies!!!#EC_proud https://t.co/…</td>\n",
              "      <td>1</td>\n",
              "      <td>newly painted walls thanks million custodial painters summergreat job ladiesec_proud</td>\n",
              "    </tr>\n",
              "    <tr>\n",
              "      <th>4</th>\n",
              "      <td>7.680980e+17</td>\n",
              "      <td>RT @CedricFeschotte: Excited to announce: as of July 2017 Feschotte lab will be relocating to @Cornell MBG https://t.co/dd0FG7BRx3</td>\n",
              "      <td>1</td>\n",
              "      <td>excited announce july feschotte lab relocating mbg</td>\n",
              "    </tr>\n",
              "    <tr>\n",
              "      <th>5</th>\n",
              "      <td>7.680980e+17</td>\n",
              "      <td>RT @SH4WNSMILE: -Who is excited for illuminate !? -.... https://t.co/AKnIVEGUOe</td>\n",
              "      <td>1</td>\n",
              "      <td>excited illuminate</td>\n",
              "    </tr>\n",
              "    <tr>\n",
              "      <th>6</th>\n",
              "      <td>7.680980e+17</td>\n",
              "      <td>RT @KendallHuntRPD: The #firstdayofschool for students &amp;amp; teachers. Good luck and have a Successful 2016-17 School Year #EducationMatters ht…</td>\n",
              "      <td>1</td>\n",
              "      <td>firstdayofschool students teachers good luck successful school year educationmatters ht</td>\n",
              "    </tr>\n",
              "    <tr>\n",
              "      <th>7</th>\n",
              "      <td>7.680980e+17</td>\n",
              "      <td>RT @BantySrkian: #SRK and kajol in the making of DDLJ song .. Both are greatest ever 🙏🙏🙏 https://t.co/Aa7fAvvtNE</td>\n",
              "      <td>1</td>\n",
              "      <td>srk kajol making ddlj song greatest ever</td>\n",
              "    </tr>\n",
              "    <tr>\n",
              "      <th>8</th>\n",
              "      <td>7.680980e+17</td>\n",
              "      <td>RT @GayHopper_com: I'm happy! https://t.co/fKXbN3Zhtd</td>\n",
              "      <td>1</td>\n",
              "      <td>im happy</td>\n",
              "    </tr>\n",
              "    <tr>\n",
              "      <th>9</th>\n",
              "      <td>7.680980e+17</td>\n",
              "      <td>RT @StarCinema: Kathryn, Daniel share memorable experience in Barcelona SEE INTERVIEW HERE: https://t.co/Vub69JTdKL https://t.co/NntyQWs7To</td>\n",
              "      <td>1</td>\n",
              "      <td>kathryn daniel share memorable experience barcelona see interview</td>\n",
              "    </tr>\n",
              "  </tbody>\n",
              "</table>\n",
              "</div>"
            ],
            "text/plain": [
              "             ID  ...                                                                               clean_text\n",
              "0  7.680980e+17  ...                             josh jenkins looking forward tab breeders crown super sunday\n",
              "1  7.680980e+17  ...            congratulations pakistan becoming notestteam world odds ji_pakzindabadrallies\n",
              "2  7.680980e+17  ...                   september taking maine mendozas surprise thanksgiving party threw fans\n",
              "3  7.680980e+17  ...     newly painted walls thanks million custodial painters summergreat job ladiesec_proud\n",
              "4  7.680980e+17  ...                                       excited announce july feschotte lab relocating mbg\n",
              "5  7.680980e+17  ...                                                                       excited illuminate\n",
              "6  7.680980e+17  ...  firstdayofschool students teachers good luck successful school year educationmatters ht\n",
              "7  7.680980e+17  ...                                                 srk kajol making ddlj song greatest ever\n",
              "8  7.680980e+17  ...                                                                                 im happy\n",
              "9  7.680980e+17  ...                        kathryn daniel share memorable experience barcelona see interview\n",
              "\n",
              "[10 rows x 4 columns]"
            ]
          },
          "metadata": {
            "tags": []
          },
          "execution_count": 6
        }
      ]
    },
    {
      "cell_type": "markdown",
      "metadata": {
        "id": "5Vfff5ciIFM2"
      },
      "source": [
        "#### **1.2 Data Cleaning - Canadian Election 2019 Data**\n",
        "\n",
        "In this section, we do a similar clean to ***Canadian_elections_2019.csv*** data.\n",
        "\n",
        "Steps for cleaning this data-set:\n",
        "1. encode **'sentiment'** column from positive/negative to 1/0\n",
        "2. copy text into a new column\n",
        "3. use custom generic **batch_clean** function to:\n",
        "    * remove tags and urls\n",
        "    * convert html to ascii\n",
        "    * convert to lower case\n",
        "4. complete specific cleaning tasks for this dataset:\n",
        "    * **don't remove users** since we can use user handles (ex. **@justintrudeau**) to determine political party affiliation \n",
        "    * remove extras: emojis, punctuation and digits\n",
        "    * remove stop-words.\n"
      ]
    },
    {
      "cell_type": "code",
      "metadata": {
        "id": "28hh3VSUX0Lo",
        "colab": {
          "base_uri": "https://localhost:8080/",
          "height": 319
        },
        "outputId": "c25b50ee-69aa-497a-fa3f-e7a259f63dbb"
      },
      "source": [
        "# read Canadian Elections 2019 .csv file\n",
        "df2 = pd.read_csv('Canadian_elections_2019.csv', low_memory=False)\n",
        "print(\"df2 shape: \", df.shape, '\\n')\n",
        "df2.head()"
      ],
      "execution_count": 7,
      "outputs": [
        {
          "output_type": "stream",
          "text": [
            "df2 shape:  (550391, 4) \n",
            "\n"
          ],
          "name": "stdout"
        },
        {
          "output_type": "execute_result",
          "data": {
            "text/html": [
              "<div>\n",
              "<style scoped>\n",
              "    .dataframe tbody tr th:only-of-type {\n",
              "        vertical-align: middle;\n",
              "    }\n",
              "\n",
              "    .dataframe tbody tr th {\n",
              "        vertical-align: top;\n",
              "    }\n",
              "\n",
              "    .dataframe thead th {\n",
              "        text-align: right;\n",
              "    }\n",
              "</style>\n",
              "<table border=\"1\" class=\"dataframe\">\n",
              "  <thead>\n",
              "    <tr style=\"text-align: right;\">\n",
              "      <th></th>\n",
              "      <th>sentiment</th>\n",
              "      <th>negative_reason</th>\n",
              "      <th>text</th>\n",
              "    </tr>\n",
              "  </thead>\n",
              "  <tbody>\n",
              "    <tr>\n",
              "      <th>0</th>\n",
              "      <td>negative</td>\n",
              "      <td>Women Reproductive right and Racism</td>\n",
              "      <td>b\"@RosieBarton So instead of your suggestion, how about we agree that #Canadian #women can not and should not trust that #AndrewScheer and a #Cons...</td>\n",
              "    </tr>\n",
              "    <tr>\n",
              "      <th>1</th>\n",
              "      <td>positive</td>\n",
              "      <td>NaN</td>\n",
              "      <td>b\"#AllWomanSpacewalk it's real!\\n@Space_Station \\n#EtobicokeNorth #CityofTO #ONPoli #cdnpoli #elxn43 https://t.co/wgdXLksTbQ\"</td>\n",
              "    </tr>\n",
              "    <tr>\n",
              "      <th>2</th>\n",
              "      <td>negative</td>\n",
              "      <td>Economy</td>\n",
              "      <td>b\"#Brantford It's going to cost YOU $94 BILLION FOR THE NEXT 4 YEARS! ASK JUSTIN! #elxn43 #cdnpoli #Canada https://t.co/9DTLLd9972\"</td>\n",
              "    </tr>\n",
              "    <tr>\n",
              "      <th>3</th>\n",
              "      <td>positive</td>\n",
              "      <td>NaN</td>\n",
              "      <td>b\"#Canada #CanadaElection2019 #CanadaVotes \\n#elxn43 \\n\\nCan't decide? This should help!\\n\\nhttps://t.co/UNe5J1tDJ6\"</td>\n",
              "    </tr>\n",
              "    <tr>\n",
              "      <th>4</th>\n",
              "      <td>negative</td>\n",
              "      <td>Economy</td>\n",
              "      <td>b\"#Canada #taxpayers are sick &amp;amp; tired of having their hard earned $ donated to corporate welfare bums that don't need it! This is only one of ...</td>\n",
              "    </tr>\n",
              "  </tbody>\n",
              "</table>\n",
              "</div>"
            ],
            "text/plain": [
              "  sentiment  ...                                                                                                                                                   text\n",
              "0  negative  ...  b\"@RosieBarton So instead of your suggestion, how about we agree that #Canadian #women can not and should not trust that #AndrewScheer and a #Cons...\n",
              "1  positive  ...                          b\"#AllWomanSpacewalk it's real!\\n@Space_Station \\n#EtobicokeNorth #CityofTO #ONPoli #cdnpoli #elxn43 https://t.co/wgdXLksTbQ\"\n",
              "2  negative  ...                    b\"#Brantford It's going to cost YOU $94 BILLION FOR THE NEXT 4 YEARS! ASK JUSTIN! #elxn43 #cdnpoli #Canada https://t.co/9DTLLd9972\"\n",
              "3  positive  ...                                   b\"#Canada #CanadaElection2019 #CanadaVotes \\n#elxn43 \\n\\nCan't decide? This should help!\\n\\nhttps://t.co/UNe5J1tDJ6\"\n",
              "4  negative  ...  b\"#Canada #taxpayers are sick &amp; tired of having their hard earned $ donated to corporate welfare bums that don't need it! This is only one of ...\n",
              "\n",
              "[5 rows x 3 columns]"
            ]
          },
          "metadata": {
            "tags": []
          },
          "execution_count": 7
        }
      ]
    },
    {
      "cell_type": "code",
      "metadata": {
        "id": "FkWGgdSGVKWE",
        "colab": {
          "base_uri": "https://localhost:8080/"
        },
        "outputId": "e97abdc3-a370-4e00-d014-2e757091195f"
      },
      "source": [
        "#confirm there are only two types of values: positive and negative\n",
        "df2.sentiment.value_counts()"
      ],
      "execution_count": 8,
      "outputs": [
        {
          "output_type": "execute_result",
          "data": {
            "text/plain": [
              "positive    1127\n",
              "negative    1006\n",
              "Name: sentiment, dtype: int64"
            ]
          },
          "metadata": {
            "tags": []
          },
          "execution_count": 8
        }
      ]
    },
    {
      "cell_type": "code",
      "metadata": {
        "id": "vTV7cs8TVJko",
        "colab": {
          "base_uri": "https://localhost:8080/"
        },
        "outputId": "5bf28b95-165c-436c-b8e2-fe46ee7e4a74"
      },
      "source": [
        "#encode 'positive' and 'negative' as 1 and 0 respectively:\n",
        "df2['sentiment'] = df2['sentiment'].map({'positive':1,'negative':0}).astype(int)\n",
        "df2.sentiment.value_counts()"
      ],
      "execution_count": 9,
      "outputs": [
        {
          "output_type": "execute_result",
          "data": {
            "text/plain": [
              "1    1127\n",
              "0    1006\n",
              "Name: sentiment, dtype: int64"
            ]
          },
          "metadata": {
            "tags": []
          },
          "execution_count": 9
        }
      ]
    },
    {
      "cell_type": "code",
      "metadata": {
        "id": "vbzG8mk_dsXM"
      },
      "source": [
        "#clean Canadian_Election_2019.csv data:\n",
        "df2['clean_text'] = df2['text']                     #save text in new col\n",
        "df2['clean_text'] = batch_clean(df2['clean_text'])  #batch cleaning\n",
        "# additional cleaning tasks specific to this dataset\n",
        "df2['clean_text'] = df2['clean_text'].apply(remove_extras)\n",
        "df2['clean_text'] = df2['clean_text'].apply(remove_stopwords)"
      ],
      "execution_count": 10,
      "outputs": []
    },
    {
      "cell_type": "code",
      "metadata": {
        "id": "cFHjOa-NeFig",
        "colab": {
          "base_uri": "https://localhost:8080/",
          "height": 694
        },
        "outputId": "e2ef5365-691d-4f6a-ea35-2e3c2b416e75"
      },
      "source": [
        "df2.head(10)"
      ],
      "execution_count": 11,
      "outputs": [
        {
          "output_type": "execute_result",
          "data": {
            "text/html": [
              "<div>\n",
              "<style scoped>\n",
              "    .dataframe tbody tr th:only-of-type {\n",
              "        vertical-align: middle;\n",
              "    }\n",
              "\n",
              "    .dataframe tbody tr th {\n",
              "        vertical-align: top;\n",
              "    }\n",
              "\n",
              "    .dataframe thead th {\n",
              "        text-align: right;\n",
              "    }\n",
              "</style>\n",
              "<table border=\"1\" class=\"dataframe\">\n",
              "  <thead>\n",
              "    <tr style=\"text-align: right;\">\n",
              "      <th></th>\n",
              "      <th>sentiment</th>\n",
              "      <th>negative_reason</th>\n",
              "      <th>text</th>\n",
              "      <th>clean_text</th>\n",
              "    </tr>\n",
              "  </thead>\n",
              "  <tbody>\n",
              "    <tr>\n",
              "      <th>0</th>\n",
              "      <td>0</td>\n",
              "      <td>Women Reproductive right and Racism</td>\n",
              "      <td>b\"@RosieBarton So instead of your suggestion, how about we agree that #Canadian #women can not and should not trust that #AndrewScheer and a #Cons...</td>\n",
              "      <td>rosiebarton instead suggestion agree canadian women trust andrewscheer conservatives government protect womans right automony body lets go thatcdn...</td>\n",
              "    </tr>\n",
              "    <tr>\n",
              "      <th>1</th>\n",
              "      <td>1</td>\n",
              "      <td>NaN</td>\n",
              "      <td>b\"#AllWomanSpacewalk it's real!\\n@Space_Station \\n#EtobicokeNorth #CityofTO #ONPoli #cdnpoli #elxn43 https://t.co/wgdXLksTbQ\"</td>\n",
              "      <td>allwomanspacewalk realnspace_station netobicokenorth cityofto onpoli cdnpoli elxn</td>\n",
              "    </tr>\n",
              "    <tr>\n",
              "      <th>2</th>\n",
              "      <td>0</td>\n",
              "      <td>Economy</td>\n",
              "      <td>b\"#Brantford It's going to cost YOU $94 BILLION FOR THE NEXT 4 YEARS! ASK JUSTIN! #elxn43 #cdnpoli #Canada https://t.co/9DTLLd9972\"</td>\n",
              "      <td>brantford going cost billion next years ask justin elxn cdnpoli canada</td>\n",
              "    </tr>\n",
              "    <tr>\n",
              "      <th>3</th>\n",
              "      <td>1</td>\n",
              "      <td>NaN</td>\n",
              "      <td>b\"#Canada #CanadaElection2019 #CanadaVotes \\n#elxn43 \\n\\nCan't decide? This should help!\\n\\nhttps://t.co/UNe5J1tDJ6\"</td>\n",
              "      <td>canada canadaelection canadavotes nelxn nncant decide helpnn</td>\n",
              "    </tr>\n",
              "    <tr>\n",
              "      <th>4</th>\n",
              "      <td>0</td>\n",
              "      <td>Economy</td>\n",
              "      <td>b\"#Canada #taxpayers are sick &amp;amp; tired of having their hard earned $ donated to corporate welfare bums that don't need it! This is only one of ...</td>\n",
              "      <td>canada taxpayers sick tired hard earned donated corporate welfare bums dont need one many reasons trudeaumustgo snclavalin leave canada care sheil...</td>\n",
              "    </tr>\n",
              "    <tr>\n",
              "      <th>5</th>\n",
              "      <td>0</td>\n",
              "      <td>Others</td>\n",
              "      <td>b\"#CanadaVotes2019 #elxn43 #cdnpoli - FACTS - #BlastFromThePast - In 2012 #Conservatives introduced the end of the long-gun registry even though a...</td>\n",
              "      <td>canadavotes elxn cdnpoli facts blastfromthepast conservatives introduced end longgun registry even though heads police across canada victims group...</td>\n",
              "    </tr>\n",
              "    <tr>\n",
              "      <th>6</th>\n",
              "      <td>1</td>\n",
              "      <td>NaN</td>\n",
              "      <td>b\"#CDNmedia #elxn43 #cdnpoli #PPC Rocky Dong hands down has the best election video ever. Please google Rocky Dong boxes socialism if you haven't ...</td>\n",
              "      <td>cdnmedia elxn cdnpoli ppc rocky dong hands best election video ever please google rocky dong boxes socialism havent seen go rocky</td>\n",
              "    </tr>\n",
              "    <tr>\n",
              "      <th>7</th>\n",
              "      <td>1</td>\n",
              "      <td>NaN</td>\n",
              "      <td>b\"#cdnpoli #elxn43 The Liberals ++ more than double what was promised in 2015, to the national debt. Now for the next term - if re-elected, they'r...</td>\n",
              "      <td>cdnpoli elxn liberals double promised national debt next term reelected theyre forecasting billion wout national pharmacare program incl wout ndp ...</td>\n",
              "    </tr>\n",
              "    <tr>\n",
              "      <th>8</th>\n",
              "      <td>0</td>\n",
              "      <td>Others</td>\n",
              "      <td>b\"#chooseforward #cdnpoli #elxn43\\nCanada, Don't Make America's Mistakes | Full Frontal on TBS https://t.co/PhU4jHxnMF via @YouTube\"</td>\n",
              "      <td>chooseforward cdnpoli elxnncanada dont make americas mistakes full frontal tbs via youtube</td>\n",
              "    </tr>\n",
              "    <tr>\n",
              "      <th>9</th>\n",
              "      <td>0</td>\n",
              "      <td>Scandal</td>\n",
              "      <td>b\"#CPCKinsellaGate\\nLet's see the receipts. Who pays Warren Kinsella to make up sleaze?\\n#cdnpoli\\n#elxn43 \\n#VoteLiberal \\xf0\\x9f\\x87\\xa8\\xf0\\x9f...</td>\n",
              "      <td>cpckinsellagatenlets see receipts pays warren kinsella make sleazencdnpolinelxn nvoteliberal xfxfxxaxfxfxxanchooseforward</td>\n",
              "    </tr>\n",
              "  </tbody>\n",
              "</table>\n",
              "</div>"
            ],
            "text/plain": [
              "   sentiment  ...                                                                                                                                             clean_text\n",
              "0          0  ...  rosiebarton instead suggestion agree canadian women trust andrewscheer conservatives government protect womans right automony body lets go thatcdn...\n",
              "1          1  ...                                                                      allwomanspacewalk realnspace_station netobicokenorth cityofto onpoli cdnpoli elxn\n",
              "2          0  ...                                                                                 brantford going cost billion next years ask justin elxn cdnpoli canada\n",
              "3          1  ...                                                                                           canada canadaelection canadavotes nelxn nncant decide helpnn\n",
              "4          0  ...  canada taxpayers sick tired hard earned donated corporate welfare bums dont need one many reasons trudeaumustgo snclavalin leave canada care sheil...\n",
              "5          0  ...  canadavotes elxn cdnpoli facts blastfromthepast conservatives introduced end longgun registry even though heads police across canada victims group...\n",
              "6          1  ...                      cdnmedia elxn cdnpoli ppc rocky dong hands best election video ever please google rocky dong boxes socialism havent seen go rocky\n",
              "7          1  ...  cdnpoli elxn liberals double promised national debt next term reelected theyre forecasting billion wout national pharmacare program incl wout ndp ...\n",
              "8          0  ...                                                             chooseforward cdnpoli elxnncanada dont make americas mistakes full frontal tbs via youtube\n",
              "9          0  ...                              cpckinsellagatenlets see receipts pays warren kinsella make sleazencdnpolinelxn nvoteliberal xfxfxxaxfxfxxanchooseforward\n",
              "\n",
              "[10 rows x 4 columns]"
            ]
          },
          "metadata": {
            "tags": []
          },
          "execution_count": 11
        }
      ]
    },
    {
      "cell_type": "markdown",
      "metadata": {
        "id": "cqdPPU8fX02_"
      },
      "source": [
        "### **2. Exploratory Data Analysis [15 marks]**\n",
        "\n",
        "\n"
      ]
    },
    {
      "cell_type": "markdown",
      "metadata": {
        "id": "JSYfnDbjao5r"
      },
      "source": [
        "#### **2.1 Simple Procedure to Determine Political Party**\n",
        "\n",
        "* Design a simple procedure that determines the political party (Liberal, Conservatives or New Democratic Party (NDC)) of a given tweet and apply this procedure to all the tweets in the Canadian Elections dataset. A suggestion would be to look at relevant words and hashtags in the tweets that identify to certain political parties or candidates."
      ]
    },
    {
      "cell_type": "code",
      "metadata": {
        "id": "LX8-CPIZMWJg",
        "colab": {
          "base_uri": "https://localhost:8080/"
        },
        "outputId": "c67f6cf4-027c-437a-d2e1-c4857c928fff"
      },
      "source": [
        "#bag-of-words vectorize into word-count-matrix and then convert to df\n",
        "cv_election = CountVectorizer(min_df=50)\n",
        "word_count_matrix = cv_election.fit_transform(df2['clean_text'].astype(str))\n",
        "word_count_df = pd.DataFrame.sparse.from_spmatrix(\n",
        "    word_count_matrix, columns=cv_election.get_feature_names())\n",
        "\n",
        "#preview of top 15 words.  We will use top-100 to define function in next cell\n",
        "word_count_df.sum(axis=0).sort_values(ascending=False)[0:15]"
      ],
      "execution_count": 12,
      "outputs": [
        {
          "output_type": "execute_result",
          "data": {
            "text/plain": [
              "elxn             1719\n",
              "cdnpoli           845\n",
              "vote              245\n",
              "election          207\n",
              "canada            194\n",
              "scheer            171\n",
              "party             166\n",
              "andrewscheer      155\n",
              "trudeau           148\n",
              "cpc               142\n",
              "like              133\n",
              "ndp               127\n",
              "people            121\n",
              "chooseforward     118\n",
              "campaign          117\n",
              "dtype: int64"
            ]
          },
          "metadata": {
            "tags": []
          },
          "execution_count": 12
        }
      ]
    },
    {
      "cell_type": "code",
      "metadata": {
        "id": "obxfNpOcdl5t"
      },
      "source": [
        "#function to determine party based on which party has most words in text:\n",
        "#these words below were taken from the top 100 most frequntly occurring words in\n",
        "#the counter list above \n",
        "def determine_party(text):\n",
        "    conservative_words = ['sheer', 'andrewscheer', 'cpc','conservative','cpc_hq',\n",
        "                      'conservatives','time','trudeaumustgo','andrew','abpoli',\n",
        "                      'alberta']\n",
        "    liberal_words = ['trudeau','justintrudeau','chooseforward','kinsella',\n",
        "                     'liberal','liberals','kinsellagate','justin','liberal_party',\n",
        "                     'scheerlies','cbckatie','lpc']\n",
        "    ndp_words = ['ndp','thejagmeetsingh','liberals','uprisingh','jagmeet',\n",
        "                 'tommulcair','mulcair','bcpoli', 'trudeaumustgo', 'climate', \n",
        "                 'people']\n",
        "    \n",
        "    con_count = 0       # count of conservative words in text\n",
        "    lib_count = 0       # count of liberal words in text\n",
        "    ndp_count = 0       # count of NDPB words in text\n",
        "    party = \"\"          # variable to store final prediction of party\n",
        "\n",
        "    # loop through each word 'x' in text and boost count if match a party \n",
        "    for x in str(text).split(\" \"):\n",
        "        if x in conservative_words:\n",
        "            con_count += 1\n",
        "        if x in liberal_words:\n",
        "            lib_count += 1\n",
        "        if x in ndp_words:\n",
        "            ndp_count += 1\n",
        "\n",
        "    # if party count is max, set = party variable.  Else: 'None' or \"Multiple\"\n",
        "    if con_count > lib_count and con_count > ndp_count:\n",
        "        party = \"Conservative\"\n",
        "    elif lib_count > con_count and lib_count > ndp_count:\n",
        "        party = \"Liberal\"\n",
        "    elif ndp_count > lib_count and ndp_count > con_count:\n",
        "        party = \"NDP\"\n",
        "    elif con_count == 0 and lib_count == 0 and ndp_count == 0:\n",
        "        party = \"None\"\n",
        "    elif con_count == ndp_count or con_count == lib_count or ndp_count == lib_count:\n",
        "        party = \"Multiple-Tie\"\n",
        "    return party"
      ],
      "execution_count": 13,
      "outputs": []
    },
    {
      "cell_type": "code",
      "metadata": {
        "id": "yXsMhIfMoFQ1",
        "colab": {
          "base_uri": "https://localhost:8080/",
          "height": 471
        },
        "outputId": "388958c5-6aac-436c-bd64-7d59424ff75b"
      },
      "source": [
        "#apply function to determine political party\n",
        "df2['party'] = df2['clean_text'].apply(determine_party)\n",
        "print(df2['party'].value_counts(), '\\n')\n",
        "\n",
        "#Plot distribution of tweets by political party\n",
        "sns.set_style('darkgrid')\n",
        "plt.subplots(figsize=(10,5))\n",
        "sns.countplot(x='party', data=df2, \n",
        "              palette=['darkblue','green','red','purple','darkorange'])\n",
        "plt.title('Distribution of Tweets by Political Party')\n",
        "plt.show()"
      ],
      "execution_count": 14,
      "outputs": [
        {
          "output_type": "stream",
          "text": [
            "None            900\n",
            "Conservative    390\n",
            "Liberal         378\n",
            "NDP             240\n",
            "Multiple-Tie    225\n",
            "Name: party, dtype: int64 \n",
            "\n"
          ],
          "name": "stdout"
        },
        {
          "output_type": "display_data",
          "data": {
            "image/png": "[encoded data removed]",
            "text/plain": [
              "<Figure size 720x360 with 1 Axes>"
            ]
          },
          "metadata": {
            "tags": []
          }
        }
      ]
    },
    {
      "cell_type": "markdown",
      "metadata": {
        "id": "SY8qVNXG9TOZ"
      },
      "source": [
        "**What can you say about the distribution of the political affiliations of the tweets?**\n",
        "\n",
        "* The tweets are fairly balanced between the three major parties: Conservative, Liberal, NDP.  There is also a comparable amount of tweets that contain multiple parties in it.\n",
        "* Almost 50% of the tweets belong to no party based on this algorithm.  This could be reduced with a more complex procedure for identifying the party.\n",
        "\n",
        "* Overall, we can conclude that the election would be a close one, which aligns with reality since it was a minority-government."
      ]
    },
    {
      "cell_type": "markdown",
      "metadata": {
        "id": "9FOx0YPabgjU"
      },
      "source": [
        "#### **2.2 Visualize Generic Twitter Data**\n",
        "\n",
        "* Present a graphical figure (e.g. chart, graph, histogram, boxplot, word cloud, etc.) that visualizes some aspect of the generic tweets in sentiment_analysis.csv \n",
        "\n",
        "* For 2019 Canadian Elections tweets visualization (see previous section)"
      ]
    },
    {
      "cell_type": "code",
      "metadata": {
        "id": "IUovDJJ9bCrB"
      },
      "source": [
        "#bag-of-words vectorize into word-count-matrix and then convert to df\n",
        "cv_word = CountVectorizer(min_df=200)\n",
        "word_count_matrix = cv_word.fit_transform(df['clean_text'].astype(str))\n",
        "word_count_df = pd.DataFrame.sparse.from_spmatrix(\n",
        "    word_count_matrix, columns=cv_word.get_feature_names())\n",
        "\n",
        "freq_dict = defaultdict()       # dict var. to store word freqs for wordcloud\n",
        "\n",
        "word_count = word_count_df.sum(axis=0).sort_values(ascending=False)[0:100]\n",
        "for index, value in word_count.iteritems():\n",
        "    freq_dict[index] = value    # convert word_count pd.Series to dictionary"
      ],
      "execution_count": 15,
      "outputs": []
    },
    {
      "cell_type": "code",
      "metadata": {
        "id": "aUdoUTH2JgcO",
        "colab": {
          "base_uri": "https://localhost:8080/"
        },
        "outputId": "2da5219a-7b0c-4752-af81-126a3b9b2dcc"
      },
      "source": [
        "#display top 10 words only\n",
        "word_count[0:10]"
      ],
      "execution_count": 16,
      "outputs": [
        {
          "output_type": "execute_result",
          "data": {
            "text/plain": [
              "love        53889\n",
              "happy       51025\n",
              "great       29066\n",
              "good        27366\n",
              "im          26243\n",
              "best        25400\n",
              "amazing     24498\n",
              "birthday    24012\n",
              "day         23510\n",
              "one         17100\n",
              "dtype: int64"
            ]
          },
          "metadata": {
            "tags": []
          },
          "execution_count": 16
        }
      ]
    },
    {
      "cell_type": "code",
      "metadata": {
        "id": "UXU8BK26bfyI",
        "colab": {
          "base_uri": "https://localhost:8080/",
          "height": 493
        },
        "outputId": "4faaff8a-1140-42d8-dc42-0d4f9dc2e459"
      },
      "source": [
        "from wordcloud import WordCloud\n",
        "\n",
        "wordcloud = WordCloud(width = 3000, \n",
        "                      height = 2000, \n",
        "                      random_state=21).generate_from_frequencies(freq_dict)\n",
        "\n",
        "plt.figure(figsize=(12,10))\n",
        "plt.title(\"Word-cloud of Top 100 Words Used in Generic Twitter Data\")\n",
        "plt.imshow(wordcloud)\n",
        "plt.axis(\"off\");"
      ],
      "execution_count": 17,
      "outputs": [
        {
          "output_type": "display_data",
          "data": {
            "image/png": "[encoded data removed]",
            "text/plain": [
              "<Figure size 864x720 with 1 Axes>"
            ]
          },
          "metadata": {
            "tags": []
          }
        }
      ]
    },
    {
      "cell_type": "markdown",
      "metadata": {
        "id": "thsP03JuYNSr"
      },
      "source": [
        "### **3. Model Preparation [15 marks]**"
      ]
    },
    {
      "cell_type": "code",
      "metadata": {
        "id": "2VkmE3ZuVRu7",
        "colab": {
          "base_uri": "https://localhost:8080/",
          "height": 170,
          "referenced_widgets": [
            "e1210573a08c4b7bbbf7e306131ded6e",
            "e6761945a3df41a5bd1f862dc4bef9d1",
            "993e6855d1674bd295da68cf38044178",
            "2340e34809654d1396acb084337f9fbe",
            "7b9644fbbde74dbb90624d20e0c3900d",
            "b672c539ee1c408c84325e4db999af41",
            "27d21e717ec84094a70127e8d355d0f1",
            "3eb02474718a4507a548eed5194d55bd",
            "8c362fcd264e4b61bb3fd40ce21d27d4",
            "2fde39dfd65d4a63a293b18c930c08fc",
            "1488b062057a4b3aae0c846526a120ff",
            "581b0eda6ec24d1ba7210d1b4fc75be0",
            "f0d3bcdffef94941b8dde891eecfe69c",
            "083be2d21fc64420b4339bf62086bdc4",
            "9344920a43a74a50a72fd553d87e7a87",
            "17c493c9e76e498e8feec90c589aacb2"
          ]
        },
        "outputId": "5e547284-5b5c-4843-f024-d0816ae77184"
      },
      "source": [
        "#Need to stem 'clean_text' data in both datasets before we split\n",
        "tqdm_notebook.pandas(desc=\"stemming...\")\n",
        "df['clean_text'] = df['clean_text'].progress_apply(stem_words)\n",
        "df2['clean_text'] = df2['clean_text'].progress_apply(stem_words)"
      ],
      "execution_count": 18,
      "outputs": [
        {
          "output_type": "stream",
          "text": [
            "/usr/local/lib/python3.7/dist-packages/tqdm/std.py:658: FutureWarning: The Panel class is removed from pandas. Accessing it from the top-level namespace will also be removed in the next version\n",
            "  from pandas import Panel\n"
          ],
          "name": "stderr"
        },
        {
          "output_type": "display_data",
          "data": {
            "application/vnd.jupyter.widget-view+json": {
              "model_id": "e1210573a08c4b7bbbf7e306131ded6e",
              "version_minor": 0,
              "version_major": 2
            },
            "text/plain": [
              "HBox(children=(FloatProgress(value=0.0, description='stemming...', max=550391.0, style=ProgressStyle(descripti…"
            ]
          },
          "metadata": {
            "tags": []
          }
        },
        {
          "output_type": "stream",
          "text": [
            "\n"
          ],
          "name": "stdout"
        },
        {
          "output_type": "display_data",
          "data": {
            "application/vnd.jupyter.widget-view+json": {
              "model_id": "8c362fcd264e4b61bb3fd40ce21d27d4",
              "version_minor": 0,
              "version_major": 2
            },
            "text/plain": [
              "HBox(children=(FloatProgress(value=0.0, description='stemming...', max=2133.0, style=ProgressStyle(description…"
            ]
          },
          "metadata": {
            "tags": []
          }
        },
        {
          "output_type": "stream",
          "text": [
            "\n"
          ],
          "name": "stdout"
        }
      ]
    },
    {
      "cell_type": "markdown",
      "metadata": {
        "id": "9ookuTHHO2A_"
      },
      "source": [
        "#### **3.1 Split Generic Twitter Data**\n",
        "\n",
        "* Split the generic tweets randomly into training data (70%) and test data (30%). \n",
        "* In these models, the target variable is the sentiment value, which is either positive or negative. "
      ]
    },
    {
      "cell_type": "code",
      "metadata": {
        "id": "BLTDzZB2uI86",
        "colab": {
          "base_uri": "https://localhost:8080/"
        },
        "outputId": "926bfbe8-4e36-46ae-c66b-45f93d0a0480"
      },
      "source": [
        "# split clean text data away from label data so we can do train_test_split\n",
        "X = df['clean_text']\n",
        "y = df['label']             #sentiment value (1 or 0)\n",
        "print(\"X shape:\", X.shape)\n",
        "print(\"y shape:\", y.shape, \"\\n\")\n",
        "\n",
        "#split data into training and test sets\n",
        "X_train, X_test, y_train, y_test = train_test_split(X, y, test_size=0.3)\n",
        "\n",
        "print(\"X_train shape: \", X_train.shape)\n",
        "print(\"X_test shape: \", X_test.shape)\n",
        "print(\"y_train shape: \", y_train.shape)\n",
        "print(\"y_test shape: \", y_test.shape)"
      ],
      "execution_count": 19,
      "outputs": [
        {
          "output_type": "stream",
          "text": [
            "X shape: (550391,)\n",
            "y shape: (550391,) \n",
            "\n",
            "X_train shape:  (385273,)\n",
            "X_test shape:  (165118,)\n",
            "y_train shape:  (385273,)\n",
            "y_test shape:  (165118,)\n"
          ],
          "name": "stdout"
        }
      ]
    },
    {
      "cell_type": "markdown",
      "metadata": {
        "id": "9SsxKW6uPEcg"
      },
      "source": [
        "#### **3.2 Prepare Generic Twitter Data for Model Implementation**\n",
        "\n",
        "* Prepare the data to try seven classification algorithms: logistic regression, k-NN, Naive Bayes, SVM, decision trees, Random Forest and XGBoost, where each tweet is considered a single observation/example. \n",
        "* Try two different types of features, Bag of Words (word frequency) and TF-IDF on all 7 models. (Hint: Be careful about\n",
        "when to split the dataset into training and testing set.)"
      ]
    },
    {
      "cell_type": "code",
      "metadata": {
        "id": "xd-pac1KOrnV",
        "colab": {
          "base_uri": "https://localhost:8080/"
        },
        "outputId": "2025c887-6b52-4133-8a28-9b02e9f01831"
      },
      "source": [
        "# Reference: https://stackoverflow.com/questions/53451694/word-count-matrix-of-document-corpus-with-pandas-dataframe/53451785\n",
        "# used to understand how to reduce size.  Filter min word count (min_df) = 100\n",
        "\n",
        "# Vectorize X_train and X_test into TF-IDF matrices\n",
        "cv_vectorizer = CountVectorizer(min_df=50)\n",
        "X_train_cv_matrix = cv_vectorizer.fit_transform(X_train.astype(str))\n",
        "X_test_cv_matrix = cv_vectorizer.transform(X_test.astype(str))\n",
        "\n",
        "print(\"X_train_cv_matrix shape: \", X_train_cv_matrix.shape)\n",
        "print(\"X_test_cv_matrix shape: \", X_test_cv_matrix.shape)"
      ],
      "execution_count": 20,
      "outputs": [
        {
          "output_type": "stream",
          "text": [
            "X_train_cv_matrix shape:  (385273, 4710)\n",
            "X_test_cv_matrix shape:  (165118, 4710)\n"
          ],
          "name": "stdout"
        }
      ]
    },
    {
      "cell_type": "code",
      "metadata": {
        "id": "PNE060UMxEzm",
        "colab": {
          "base_uri": "https://localhost:8080/"
        },
        "outputId": "8a1f5ec8-f7c9-40ac-d8ca-695ab3352cc6"
      },
      "source": [
        "# Vectorize X_train and X_test into TF-IDF matrices\n",
        "tfidf_vectorizer = TfidfVectorizer(min_df=50)\n",
        "X_train_tfidf_matrix = tfidf_vectorizer.fit_transform(X_train.astype(str))\n",
        "X_test_tfidf_matrix = tfidf_vectorizer.transform(X_test.astype(str))\n",
        "\n",
        "print(\"X_train_tfidf_matrix shape: \", X_train_tfidf_matrix.shape)\n",
        "print(\"X_test_tfidf_matrix shape: \", X_test_tfidf_matrix.shape)"
      ],
      "execution_count": 21,
      "outputs": [
        {
          "output_type": "stream",
          "text": [
            "X_train_tfidf_matrix shape:  (385273, 4710)\n",
            "X_test_tfidf_matrix shape:  (165118, 4710)\n"
          ],
          "name": "stdout"
        }
      ]
    },
    {
      "cell_type": "code",
      "metadata": {
        "id": "anR2-WEVTHOh",
        "colab": {
          "base_uri": "https://localhost:8080/"
        },
        "outputId": "17ebb222-1a52-46c4-9a91-45f3a4e86e50"
      },
      "source": [
        "# References:\n",
        "# https://scikit-learn.org/stable/modules/generated/sklearn.decomposition.TruncatedSVD.html\n",
        "\n",
        "# Since the datasets are so big, we need to do dimensionality reduction\n",
        "# PCA was not recommended for sparse matrix since it centers data before SVD\n",
        "svd_cv = TruncatedSVD(n_components = 100, random_state=21)\n",
        "X_train_cv_svd = svd_cv.fit_transform(X_train_cv_matrix)\n",
        "X_test_cv_svd = svd_cv.transform(X_test_cv_matrix)\n",
        "\n",
        "print(\"Variance Explained by first 100 components of X_train_cv_matrix: {:.2%}\".format(\n",
        "    svd_cv.explained_variance_ratio_.sum()))"
      ],
      "execution_count": 22,
      "outputs": [
        {
          "output_type": "stream",
          "text": [
            "Variance Explained by first 100 components of X_train_cv_matrix: 36.96%\n"
          ],
          "name": "stdout"
        }
      ]
    },
    {
      "cell_type": "code",
      "metadata": {
        "id": "RQxdOHKoY9Ek",
        "colab": {
          "base_uri": "https://localhost:8080/"
        },
        "outputId": "a4520a0c-2f57-40cc-c4df-d15a7cf26d39"
      },
      "source": [
        "svd_tfidf = TruncatedSVD(n_components = 100, random_state=21)\n",
        "X_train_tfidf_svd = svd_tfidf.fit_transform(X_train_tfidf_matrix)\n",
        "X_test_tfidf_svd = svd_tfidf.transform(X_test_tfidf_matrix)\n",
        "print(\"X_train_tfidf_svd shape: \", X_train_tfidf_svd.shape)\n",
        "print(\"X_test_tfidf_svd shape: \", X_test_tfidf_svd.shape, \"\\n\")\n",
        "\n",
        "print(\"Variance Explained by first 100 components of X_train_tfidf_matrix: {:.2%}\".format(\n",
        "    svd_tfidf.explained_variance_ratio_.sum()))"
      ],
      "execution_count": 23,
      "outputs": [
        {
          "output_type": "stream",
          "text": [
            "X_train_tfidf_svd shape:  (385273, 100)\n",
            "X_test_tfidf_svd shape:  (165118, 100) \n",
            "\n",
            "Variance Explained by first 100 components of X_train_tfidf_matrix: 26.23%\n"
          ],
          "name": "stdout"
        }
      ]
    },
    {
      "cell_type": "markdown",
      "metadata": {
        "id": "IbCPD9qNPycm"
      },
      "source": [
        "#### **3.3 Split and Prepare Canadian Election Data**\n",
        "\n",
        "1. Split feature data ('clean_text') and target data ('sentiment') into **X** and **y**\n",
        "2. Vectorize election X using both methods:\n",
        "    * bag-of-words (cv): **election_X_cv_matrix**\n",
        "    * TF-IDF: **election_X_tfidf_matrix**\n",
        "3. Conduct Singular Value Decomposition to reduce dimensionality of each election_X matrix to generate:\n",
        "    * **election_X_cv_svd**\n",
        "    * **election_X_tfidf_svd**"
      ]
    },
    {
      "cell_type": "code",
      "metadata": {
        "id": "vkJjWNTTo0Ae",
        "colab": {
          "base_uri": "https://localhost:8080/"
        },
        "outputId": "797eb14f-8110-46ad-8748-b45dbf76e08e"
      },
      "source": [
        "election_X = df2.clean_text     # feature data\n",
        "election_y = df2.sentiment      # target data\n",
        "\n",
        "print(\"election_X shape:\", election_X.shape)\n",
        "print(\"election_y shape:\", election_y.shape, \"\\n\")\n",
        "\n",
        "#vectorize using bag-of-words and then reduce dimensionality using SVD\n",
        "election_X_cv_matrix = cv_vectorizer.transform(election_X.astype(str))\n",
        "print(\"election_X_cv_matrix shape:\", election_X_cv_matrix.shape)\n",
        "election_X_cv_svd = svd_cv.transform(election_X_cv_matrix)\n",
        "print(\"election_X_cv_svd shape:\", election_X_cv_svd.shape, \"\\n\")\n",
        "\n",
        "#vectorize using TF-IDF and then reduce dimensionality using SVD\n",
        "election_X_tfidf_matrix = tfidf_vectorizer.transform(election_X.astype(str))\n",
        "print(\"election_X_tfidf_matrix shape:\", election_X_tfidf_matrix.shape)\n",
        "election_X_tfidf_svd = svd_tfidf.transform(election_X_tfidf_matrix)\n",
        "print(\"election_X_tfidf_svd shape:\", election_X_tfidf_svd.shape)"
      ],
      "execution_count": 24,
      "outputs": [
        {
          "output_type": "stream",
          "text": [
            "election_X shape: (2133,)\n",
            "election_y shape: (2133,) \n",
            "\n",
            "election_X_cv_matrix shape: (2133, 4710)\n",
            "election_X_cv_svd shape: (2133, 100) \n",
            "\n",
            "election_X_tfidf_matrix shape: (2133, 4710)\n",
            "election_X_tfidf_svd shape: (2133, 100)\n"
          ],
          "name": "stdout"
        }
      ]
    },
    {
      "cell_type": "markdown",
      "metadata": {
        "id": "cK5Pq3GIAOlH"
      },
      "source": [
        "### **4. Model Implementation and Tuning**"
      ]
    },
    {
      "cell_type": "markdown",
      "metadata": {
        "id": "q0oVBucU_Pig"
      },
      "source": [
        "#### **4.1 Implement Binary Classification Models on Generic Sentiment Analysis Data**\n",
        "\n",
        "* Train models on the training data from generic tweets and apply the model to the test data to obtain an accuracy value. \n",
        "* Evaluate the same trained model with best performance on the Canadian Elections data. \n",
        "* **How well do your predictions match the sentiment labelled in the Canadian elections data?**"
      ]
    },
    {
      "cell_type": "code",
      "metadata": {
        "id": "lEkgZUnsfIna"
      },
      "source": [
        "#build a function to loop through all 7 classifier models and store accuracies\n",
        "def implement_models(X_train, y_train, X_test, y_test):\n",
        "\n",
        "    model_name = ['Log Regression', 'Naive Bayes', 'Linear SVC', \n",
        "                  'Decision Tree', 'Random Forest', 'XGBoost', 'KNN']\n",
        "\n",
        "    model = [LogisticRegression(max_iter=1000), GaussianNB(), \n",
        "             LinearSVC(random_state=21),\n",
        "             DecisionTreeClassifier(random_state=21), \n",
        "             RandomForestClassifier(random_state=21),\n",
        "             XGBClassifier(), KNeighborsClassifier()]\n",
        "\n",
        "    start = time.time()\n",
        "\n",
        "    accuracy_list = []\n",
        "    progress_bar = trange(7)\n",
        "    best_score = 0\n",
        "    best_predictions = np.zeros(y_test.shape[0])\n",
        "\n",
        "    for i in progress_bar:\n",
        "        progress_bar.set_description(f\"Implementing Model: {model_name[i]}\")\n",
        "        model[i].fit(X_train, y_train)\n",
        "        predictions = model[i].predict(X_test)\n",
        "        end = time.time()\n",
        "        score = f1_score(y_test, predictions)\n",
        "        print('{} F1 Score: {:.2%} (exec time: {:.2f} secs)'.format(\n",
        "            model_name[i],score,(end-start)))\n",
        "        accuracy_list.append(score)\n",
        "        start = end\n",
        "\n",
        "        if score > best_score:\n",
        "            best_score = score\n",
        "            best_predictions = predictions\n",
        "\n",
        "    return accuracy_list"
      ],
      "execution_count": 25,
      "outputs": []
    },
    {
      "cell_type": "code",
      "metadata": {
        "colab": {
          "base_uri": "https://localhost:8080/",
          "height": 187,
          "referenced_widgets": [
            "ee2d25b55b5943318fbcfcd308f99176",
            "4175eaf2894c46faa93afb1646931489",
            "63017f2bcd8e4c3eb2825d9b46fd001b",
            "bde39ef744c34b0cb1e69a4849dafdd6",
            "785effc6ba7747a7acc0dc667ce9ad0d",
            "5f692819516c426f834f23e89a96c0ab",
            "eb142abc19374484b494b824091aa79a",
            "b061404582ee412c98e295b957225459"
          ]
        },
        "id": "-WJk0-WQhlMn",
        "outputId": "89d683a9-1cef-433a-eab6-2fd7241cd68d"
      },
      "source": [
        "# Implementing Models on Generic Sentiment Analyis data using bag-of-words:\n",
        "cv_f1_scores = implement_models(X_train_cv_svd, y_train, X_test_cv_svd, y_test)"
      ],
      "execution_count": null,
      "outputs": [
        {
          "output_type": "display_data",
          "data": {
            "application/vnd.jupyter.widget-view+json": {
              "model_id": "ee2d25b55b5943318fbcfcd308f99176",
              "version_minor": 0,
              "version_major": 2
            },
            "text/plain": [
              "HBox(children=(FloatProgress(value=0.0, max=7.0), HTML(value='')))"
            ]
          },
          "metadata": {
            "tags": []
          }
        },
        {
          "output_type": "stream",
          "text": [
            "Log Regression F1 Score: 91.32% (exec time: 12.75 secs)\n",
            "Naive Bayes F1 Score: 83.23% (exec time: 0.89 secs)\n",
            "Linear SVC F1 Score: 90.79% (exec time: 95.12 secs)\n",
            "Decision Tree F1 Score: 90.27% (exec time: 168.90 secs)\n",
            "Random Forest F1 Score: 94.24% (exec time: 835.12 secs)\n",
            "XGBoost F1 Score: 90.82% (exec time: 329.19 secs)\n",
            "KNN F1 Score: 92.61% (exec time: 2317.12 secs)\n",
            "\n"
          ],
          "name": "stdout"
        }
      ]
    },
    {
      "cell_type": "code",
      "metadata": {
        "id": "ARCuXALYvuY3",
        "colab": {
          "base_uri": "https://localhost:8080/",
          "height": 187,
          "referenced_widgets": [
            "2418d57f04c64af5a7c66bcaa8be4b3f",
            "fc8f0d504e2b483487f7604786c21320",
            "46c0ff7bcf0146028c272527efc3dc63",
            "640d6b1269434fd581103db9d18b74a4",
            "bf6b1ac0d8964f20afd7cdb9567d253d",
            "ad46d7795b5a45588251b811549b1081",
            "626411f4970448d6bb1f19df61770fa0",
            "9b91639689ad4e19834c1a7a260e6a1e"
          ]
        },
        "outputId": "63700904-65cd-4092-e936-a320acae7ca7"
      },
      "source": [
        "# Implementing Models on Generic Sentiment Analyis data using TF-IDF:\n",
        "tfidf_f1_scores  = implement_models(X_train_tfidf_svd, y_train, \n",
        "                                    X_test_tfidf_svd, y_test)"
      ],
      "execution_count": null,
      "outputs": [
        {
          "output_type": "display_data",
          "data": {
            "application/vnd.jupyter.widget-view+json": {
              "model_id": "2418d57f04c64af5a7c66bcaa8be4b3f",
              "version_minor": 0,
              "version_major": 2
            },
            "text/plain": [
              "HBox(children=(FloatProgress(value=0.0, max=7.0), HTML(value='')))"
            ]
          },
          "metadata": {
            "tags": []
          }
        },
        {
          "output_type": "stream",
          "text": [
            "Log Regression F1 Score: 91.89% (exec time: 22.81 secs)\n",
            "Naive Bayes F1 Score: 82.68% (exec time: 0.92 secs)\n",
            "Linear SVC F1 Score: 91.77% (exec time: 11.03 secs)\n",
            "Decision Tree F1 Score: 90.58% (exec time: 133.08 secs)\n",
            "Random Forest F1 Score: 94.44% (exec time: 727.62 secs)\n",
            "XGBoost F1 Score: 91.60% (exec time: 311.70 secs)\n",
            "KNN F1 Score: 91.96% (exec time: 4471.75 secs)\n",
            "\n"
          ],
          "name": "stdout"
        }
      ]
    },
    {
      "cell_type": "code",
      "metadata": {
        "id": "opVa0HcBSl_K",
        "colab": {
          "base_uri": "https://localhost:8080/"
        },
        "outputId": "4069d6cd-509c-4ab9-e8f4-603ef468a0f0"
      },
      "source": [
        "#Best accuracy was achieved using the  model and using TF-IDF\n",
        "# so now we run it with the Canadian Election 2019 data to see its performance:\n",
        "start = time.time()\n",
        "model = RandomForestClassifier(random_state=21)\n",
        "model.fit(X_train_tfidf_svd, y_train)\n",
        "predictions = model.predict(election_X_tfidf_svd)\n",
        "end = time.time()\n",
        "score = f1_score(election_y, predictions)\n",
        "print('Random Forest Model F1 Score: {:.2%} (exec time: {:.2f} secs)'.format(\n",
        "score,(end-start)))"
      ],
      "execution_count": null,
      "outputs": [
        {
          "output_type": "stream",
          "text": [
            "Random Forest Model F1 Score: 52.96% (exec time: 657.60 secs)\n"
          ],
          "name": "stdout"
        }
      ]
    },
    {
      "cell_type": "markdown",
      "metadata": {
        "id": "C9tdbwkWISzt"
      },
      "source": [
        "**How well do your predictions match the sentiment labelled in the Canadian elections data?**\n",
        "\n",
        "* We with the best model (Random Forest using TF-IDF) on the generic sentiment analysis dataobtained an F1 score of: **94.44%**.  However, applying this model on the Canadian Election 2019 data gives an F1 score of: **52.96%**.\n",
        "\n",
        "* This is a case of overfitting the training data and could potentially be improved with adjusting hyper-parameters or perhaps, better data cleaning.  For example, Lemmetization would potentially provide better words for analysis but this was not done due to the higher computational requirements."
      ]
    },
    {
      "cell_type": "markdown",
      "metadata": {
        "id": "gEHCCZ6hBPPG"
      },
      "source": [
        "#### **4.2 Visualize Canadian Election Sentiment Predictions on Best Model**\n",
        "\n",
        "Choose the model that has the best performance and visualize the sentiment prediction results and the true sentiment for each of the 3 parties/candidates."
      ]
    },
    {
      "cell_type": "code",
      "metadata": {
        "id": "STPsdyhOYHI-"
      },
      "source": [
        "df2['predictions'] = pd.Series(predictions)"
      ],
      "execution_count": null,
      "outputs": []
    },
    {
      "cell_type": "code",
      "metadata": {
        "id": "s3Az2Kw1bqV1",
        "colab": {
          "base_uri": "https://localhost:8080/",
          "height": 198
        },
        "outputId": "185a9937-3b23-40c2-8a04-85197986a7da"
      },
      "source": [
        "party_predictions = df2[df2['predictions']==1]['party'].value_counts()\n",
        "party_true_values = df2[df2['sentiment']==1]['party'].value_counts()\n",
        "\n",
        "prediction_df = pd.DataFrame([party_true_values, party_predictions], index=['true-values','predictions']).transpose()\n",
        "\n",
        "party_predictions = df2[df2['predictions']==0]['party'].value_counts()\n",
        "party_true_values = df2[df2['sentiment']==0]['party'].value_counts()\n",
        "\n",
        "neg_prediction_df = pd.DataFrame([party_true_values, party_predictions], index=['true-values','predictions']).transpose()\n",
        "neg_prediction_df"
      ],
      "execution_count": null,
      "outputs": [
        {
          "output_type": "execute_result",
          "data": {
            "text/html": [
              "<div>\n",
              "<style scoped>\n",
              "    .dataframe tbody tr th:only-of-type {\n",
              "        vertical-align: middle;\n",
              "    }\n",
              "\n",
              "    .dataframe tbody tr th {\n",
              "        vertical-align: top;\n",
              "    }\n",
              "\n",
              "    .dataframe thead th {\n",
              "        text-align: right;\n",
              "    }\n",
              "</style>\n",
              "<table border=\"1\" class=\"dataframe\">\n",
              "  <thead>\n",
              "    <tr style=\"text-align: right;\">\n",
              "      <th></th>\n",
              "      <th>true-values</th>\n",
              "      <th>predictions</th>\n",
              "    </tr>\n",
              "  </thead>\n",
              "  <tbody>\n",
              "    <tr>\n",
              "      <th>None</th>\n",
              "      <td>348</td>\n",
              "      <td>577</td>\n",
              "    </tr>\n",
              "    <tr>\n",
              "      <th>Conservative</th>\n",
              "      <td>238</td>\n",
              "      <td>268</td>\n",
              "    </tr>\n",
              "    <tr>\n",
              "      <th>Liberal</th>\n",
              "      <td>199</td>\n",
              "      <td>264</td>\n",
              "    </tr>\n",
              "    <tr>\n",
              "      <th>Multiple-Tie</th>\n",
              "      <td>129</td>\n",
              "      <td>151</td>\n",
              "    </tr>\n",
              "    <tr>\n",
              "      <th>NDP</th>\n",
              "      <td>92</td>\n",
              "      <td>157</td>\n",
              "    </tr>\n",
              "  </tbody>\n",
              "</table>\n",
              "</div>"
            ],
            "text/plain": [
              "              true-values  predictions\n",
              "None                  348          577\n",
              "Conservative          238          268\n",
              "Liberal               199          264\n",
              "Multiple-Tie          129          151\n",
              "NDP                    92          157"
            ]
          },
          "metadata": {
            "tags": []
          },
          "execution_count": 33
        }
      ]
    },
    {
      "cell_type": "code",
      "metadata": {
        "id": "jPFplGmZBPsB",
        "colab": {
          "base_uri": "https://localhost:8080/",
          "height": 354
        },
        "outputId": "9069a6fe-273c-4f57-aae9-90a28155ebe2"
      },
      "source": [
        "plt.style.use('ggplot')     # import seaborn 'ggplot' style sheet\n",
        "\n",
        "fig, ax = plt.subplots(1,2, figsize=(12,5), sharey=True)\n",
        "ax[0].bar(prediction_df.index, prediction_df['true-values'], alpha=0.3,\n",
        "       color = ['green', 'red','darkblue', 'darkorange', 'purple'], \n",
        "       label='true-values')\n",
        "ax[0].bar(prediction_df.index, prediction_df['predictions'], alpha=0.8,\n",
        "        color = ['green', 'red','darkblue', 'darkorange', 'purple'], \n",
        "        label='predictions')\n",
        "ax[1].bar(neg_prediction_df.index, neg_prediction_df['predictions'], alpha=0.3,\n",
        "        color = ['green', 'darkblue','red', 'darkorange', 'purple'], \n",
        "        label='predictions')\n",
        "ax[1].bar(neg_prediction_df.index, neg_prediction_df['true-values'], alpha=0.8,\n",
        "       color = ['green', 'darkblue','red', 'darkorange', 'purple'], \n",
        "       label='true-values')\n",
        "for i in range(2):\n",
        "    ax[i].set_xlabel('Political Party')\n",
        "    ax[i].legend()\n",
        "ax[0].set_ylabel('Count of Positive Tweets')\n",
        "ax[0].set_title('# True Positive vs. Predicted by Party')\n",
        "ax[1].set_title('# True Negative vs. Predicted by Party')\n",
        "\n",
        "plt.show()"
      ],
      "execution_count": null,
      "outputs": [
        {
          "output_type": "display_data",
          "data": {
            "image/png": "[encoded data removed]",
            "text/plain": [
              "<Figure size 864x360 with 2 Axes>"
            ]
          },
          "metadata": {
            "tags": []
          }
        }
      ]
    },
    {
      "cell_type": "markdown",
      "metadata": {
        "id": "Hlk-sZcwn-9-"
      },
      "source": [
        "**Discuss whether NLP analytics based on tweets is useful for political parties during election campaigns**\n",
        "\n",
        "* From the graph, whe can see that the model over-predicted positive sentiment and under-predicted negative sentiments for all 3 parties.\n",
        "\n",
        "* We can see also from the true data that the overall sentiments were very close for all 3 parties.  Since 2019 resulted in a minority-government, this makes sense.\n",
        "\n",
        "* NLP analytics could be used by political parties to see how they compare to other parties during a campaign if the model could be tuned to be more accurate.  If a party knew that they were subject to more negative tweets, they could counter this using several political/marketing strategies."
      ]
    },
    {
      "cell_type": "markdown",
      "metadata": {
        "id": "sjTiJX5J_slZ"
      },
      "source": [
        "#### **4.3 Multi-Classification Models to Predict Reason for Negative Canadian Election Tweet**\n",
        "\n",
        "* Split the negative Canadian elections tweets into training data (70%) and test data (30%). Use the true sentiment labels in the Canadian elections data instead of your predictions from the previous part. \n",
        "\n",
        "**Note.** Feel free to combine similar reasons into fewer categories as long as you justify your reasoning. You are free to define input features of your model using word frequency analysis or other techniques."
      ]
    },
    {
      "cell_type": "code",
      "metadata": {
        "colab": {
          "base_uri": "https://localhost:8080/"
        },
        "id": "aHIrcuqpozJY",
        "outputId": "77e5fe7b-357e-492c-f1fd-826c03895539"
      },
      "source": [
        "df2.negative_reason.value_counts()"
      ],
      "execution_count": 26,
      "outputs": [
        {
          "output_type": "execute_result",
          "data": {
            "text/plain": [
              "Others                                 365\n",
              "Scandal                                270\n",
              "Tell lies                              198\n",
              "Economy                                 51\n",
              "Women Reproductive right and Racism     45\n",
              "Climate Problem                         41\n",
              "Separation                              16\n",
              "Privilege                               12\n",
              "Healthcare                               5\n",
              "Healthcare and Marijuana                 4\n",
              "Name: negative_reason, dtype: int64"
            ]
          },
          "metadata": {
            "tags": []
          },
          "execution_count": 26
        }
      ]
    },
    {
      "cell_type": "code",
      "metadata": {
        "id": "DGoop6sCCWpK",
        "colab": {
          "base_uri": "https://localhost:8080/",
          "height": 392
        },
        "outputId": "ac4bfe6a-b51d-4109-ff14-3ff994bfa5c8"
      },
      "source": [
        "# 0. shorten some label data (negative reasons) for better visual on plot\n",
        "# And merge 'separation', 'privelege', 'healthcare', 'healthcare and marijuana'\n",
        "# into 'others' due to low numbers\n",
        "df2['negative_reason'] = df2['negative_reason'].map(\n",
        "    {'Women Reproductive right and Racism':'Women rights and racism',\n",
        "     'Healthcare and Marijuana':'Others', 'Healthcare':'Others', \n",
        "     'Privilege':'Others','Separation':'Others'}).fillna(\n",
        "         df2['negative_reason'])\n",
        "     \n",
        "fig, axes = plt.subplots(figsize=(10,6))\n",
        "sns.countplot(x='negative_reason', data=df2)\n",
        "plt.title('Negative Tweet Reasons Distribution for Canadian Election data')\n",
        "plt.xticks(rotation=60)\n",
        "fig.subplots_adjust(bottom=0.4)"
      ],
      "execution_count": 27,
      "outputs": [
        {
          "output_type": "display_data",
          "data": {
            "image/png": "[encoded data removed]",
            "text/plain": [
              "<Figure size 720x432 with 1 Axes>"
            ]
          },
          "metadata": {
            "tags": []
          }
        }
      ]
    },
    {
      "cell_type": "code",
      "metadata": {
        "id": "txfEObDPYvfY",
        "colab": {
          "base_uri": "https://localhost:8080/"
        },
        "outputId": "1172473c-4a31-4e90-e452-642e8abb6cbf"
      },
      "source": [
        "# 1. we split negative tweets only from Canadian election data\n",
        "negative_tweets = df2[df2['sentiment'] == 0]\n",
        "print(\"df2 shape:\", df2.shape)\n",
        "print(\"negative tweets shape:\", negative_tweets.shape,\"\\n\")\n",
        "\n",
        "# 2. split negative_tweets into X (clean_text) and y (negative_reason)\n",
        "neg_tweet_X = negative_tweets.clean_text\n",
        "neg_tweet_y = negative_tweets.negative_reason\n",
        "\n",
        "print(\"neg_tweet_X shape:\", neg_tweet_X.shape)\n",
        "print(\"neg_tweet_y shape:\", neg_tweet_y.shape, \"\\n\")\n",
        "\n",
        "# 3. split data into training and test sets\n",
        "neg_X_train, neg_X_test, neg_y_train, neg_y_test = train_test_split(neg_tweet_X, \n",
        "                                                                    neg_tweet_y, \n",
        "                                                                    test_size=0.3)\n",
        "\n",
        "print(\"neg_X_train shape: \", neg_X_train.shape)\n",
        "print(\"neg_X_test shape: \", neg_X_test.shape)\n",
        "print(\"neg_y_train shape: \", neg_y_train.shape)\n",
        "print(\"neg_y_test shape: \", neg_y_test.shape)"
      ],
      "execution_count": 28,
      "outputs": [
        {
          "output_type": "stream",
          "text": [
            "df2 shape: (2133, 5)\n",
            "negative tweets shape: (1006, 5) \n",
            "\n",
            "neg_tweet_X shape: (1006,)\n",
            "neg_tweet_y shape: (1006,) \n",
            "\n",
            "neg_X_train shape:  (704,)\n",
            "neg_X_test shape:  (302,)\n",
            "neg_y_train shape:  (704,)\n",
            "neg_y_test shape:  (302,)\n"
          ],
          "name": "stdout"
        }
      ]
    },
    {
      "cell_type": "code",
      "metadata": {
        "id": "ypEen5krf6-z",
        "colab": {
          "base_uri": "https://localhost:8080/"
        },
        "outputId": "e62ec9ff-9c2b-429e-b73a-44dd197902a5"
      },
      "source": [
        "#4. vectorize using tf-idf since it's generally performed better:\n",
        "tf_vectorizer = TfidfVectorizer()\n",
        "neg_X_train_tf_matrix = tf_vectorizer.fit_transform(neg_X_train.astype(str))\n",
        "neg_X_test_tf_matrix = tf_vectorizer.transform(neg_X_test.astype(str))\n",
        "\n",
        "print(\"neg_X_train_tf_matrix shape: \", neg_X_train_tf_matrix.shape)\n",
        "print(\"neg_X_test_tf_matrix shape: \", neg_X_test_tf_matrix.shape)"
      ],
      "execution_count": 29,
      "outputs": [
        {
          "output_type": "stream",
          "text": [
            "neg_X_train_tf_matrix shape:  (704, 4218)\n",
            "neg_X_test_tf_matrix shape:  (302, 4218)\n"
          ],
          "name": "stdout"
        }
      ]
    },
    {
      "cell_type": "markdown",
      "metadata": {
        "id": "buGb9F5hUeRZ"
      },
      "source": [
        "#### **4.4 Implement Multi-Classification Models**\n",
        "\n",
        "* Choose three algorithms from classification algorithms (choose any 3 from logistic regression, k-NN, Naive Bayes, SVM, decision trees, ensembles (RF, XGBoost)), train multi-class classification models to predict the\n",
        "reason for the negative tweets. \n",
        "* Tune the hyperparameters and chose the model with best score to test your prediction reason for negative sentiment tweets. There are 10 different negative reasons labelled in the dataset."
      ]
    },
    {
      "cell_type": "markdown",
      "metadata": {
        "id": "T0003OJppVUJ"
      },
      "source": [
        "##### **4.4A Logistics Regression Hyperparameter Tuning**"
      ]
    },
    {
      "cell_type": "code",
      "metadata": {
        "id": "dPbVwKEHUd1P",
        "colab": {
          "base_uri": "https://localhost:8080/"
        },
        "outputId": "539b804c-162b-423b-eab8-6ee4d83d302c"
      },
      "source": [
        "#Logistics Regression parameters\n",
        "params_LR = {'multi_class':['ovr'],           # for multi-class must use 'ovr'\n",
        "             'solver':['liblinear'],          # for 'ovr' must use 'liblinear'\n",
        "             'penalty': ['l1','l2'],        # 'none' doesn't work with liblinear\n",
        "             'C': np.logspace(1,-4,num=6),  # [0.0001, 0.001, 0.01, 0.1, 1, 10]\n",
        "             'max_iter':[1000]}\n",
        "\n",
        "#use grid-search to tune hyperparameters:\n",
        "gs = GridSearchCV(estimator=LogisticRegression(), param_grid=params_LR, \n",
        "                  verbose=1, scoring='accuracy')\n",
        "gs.fit(neg_X_train_tf_matrix, neg_y_train)\n",
        "print(\"Best Parameters: \", gs.best_params_)\n",
        "print(\"Best Log Regression Validation Accuracy: {:.2%}\".format(gs.best_score_))"
      ],
      "execution_count": 31,
      "outputs": [
        {
          "output_type": "stream",
          "text": [
            "Fitting 5 folds for each of 12 candidates, totalling 60 fits\n"
          ],
          "name": "stdout"
        },
        {
          "output_type": "stream",
          "text": [
            "[Parallel(n_jobs=1)]: Using backend SequentialBackend with 1 concurrent workers.\n",
            "/usr/local/lib/python3.7/dist-packages/sklearn/svm/_base.py:947: ConvergenceWarning: Liblinear failed to converge, increase the number of iterations.\n",
            "  \"the number of iterations.\", ConvergenceWarning)\n",
            "[Parallel(n_jobs=1)]: Done  60 out of  60 | elapsed:  1.8min finished\n"
          ],
          "name": "stderr"
        },
        {
          "output_type": "stream",
          "text": [
            "Best Parameters:  {'C': 10.0, 'max_iter': 1000, 'multi_class': 'ovr', 'penalty': 'l1', 'solver': 'liblinear'}\n",
            "Best Log Regression Validation Accuracy: 58.81%\n"
          ],
          "name": "stdout"
        }
      ]
    },
    {
      "cell_type": "code",
      "metadata": {
        "colab": {
          "base_uri": "https://localhost:8080/"
        },
        "id": "Pt4l0039p5U5",
        "outputId": "dbb1af6b-47ec-46b2-dd54-ab06d06c0dc7"
      },
      "source": [
        "#Implement best parameters on Logistics Regression model with test data\n",
        "model = LogisticRegression(penalty='l1',C=10, multi_class='ovr', \n",
        "                           solver='liblinear', max_iter=10000)\n",
        "model.fit(neg_X_train_tf_matrix, neg_y_train)\n",
        "predictions = model.predict(neg_X_test_tf_matrix)\n",
        "score = accuracy_score(neg_y_test, predictions)\n",
        "print(\"Best Log Regression Test Accuracy: {:.2%}\".format(score))\n",
        "best_predictions = predictions"
      ],
      "execution_count": 32,
      "outputs": [
        {
          "output_type": "stream",
          "text": [
            "Best Log Regression Test Accuracy: 58.94%\n"
          ],
          "name": "stdout"
        },
        {
          "output_type": "stream",
          "text": [
            "/usr/local/lib/python3.7/dist-packages/sklearn/svm/_base.py:947: ConvergenceWarning: Liblinear failed to converge, increase the number of iterations.\n",
            "  \"the number of iterations.\", ConvergenceWarning)\n"
          ],
          "name": "stderr"
        }
      ]
    },
    {
      "cell_type": "markdown",
      "metadata": {
        "id": "ftNnuVRwpeix"
      },
      "source": [
        "##### **4.5B Naive Bayes Model Hyperparameter Tuning**"
      ]
    },
    {
      "cell_type": "code",
      "metadata": {
        "colab": {
          "base_uri": "https://localhost:8080/"
        },
        "id": "m39jYic0peOK",
        "outputId": "529dc314-6e5d-4415-d2c8-66aca718c8da"
      },
      "source": [
        "#Reference: https://www.featureranking.com/tutorials/machine-learning-tutorials/sk-part-3-cross-validation-and-hyperparameter-tuning/\n",
        "#As per ref, use PowerTransformer() on train/test data to hypertune Naive Bayes\n",
        "pt = PowerTransformer()\n",
        "neg_X_train_power = pt.fit_transform(neg_X_train_tf_matrix.toarray())\n",
        "neg_X_test_power = pt.transform(neg_X_test_tf_matrix.toarray())\n",
        "\n",
        "#Naive Bayes parameters\n",
        "params_NB = {'var_smoothing': np.logspace(0,-9, num=10)} \n",
        "\n",
        "#use grid-search to tune hyperparameters:\n",
        "gs = GridSearchCV(estimator=GaussianNB(), param_grid=params_NB, verbose=1,\n",
        "                  scoring='accuracy')\n",
        "gs.fit(neg_X_train_power, neg_y_train)\n",
        "print(\"Best Parameters: \", gs.best_params_)\n",
        "print(\"Best Naive Bayes Validation Accuracy: {:.2%}\".format(gs.best_score_))"
      ],
      "execution_count": 33,
      "outputs": [
        {
          "output_type": "stream",
          "text": [
            "Fitting 5 folds for each of 10 candidates, totalling 50 fits\n"
          ],
          "name": "stdout"
        },
        {
          "output_type": "stream",
          "text": [
            "[Parallel(n_jobs=1)]: Using backend SequentialBackend with 1 concurrent workers.\n"
          ],
          "name": "stderr"
        },
        {
          "output_type": "stream",
          "text": [
            "Best Parameters:  {'var_smoothing': 1e-05}\n",
            "Best Naive Bayes Validation Accuracy: 38.06%\n"
          ],
          "name": "stdout"
        },
        {
          "output_type": "stream",
          "text": [
            "[Parallel(n_jobs=1)]: Done  50 out of  50 | elapsed:    2.6s finished\n"
          ],
          "name": "stderr"
        }
      ]
    },
    {
      "cell_type": "code",
      "metadata": {
        "colab": {
          "base_uri": "https://localhost:8080/"
        },
        "id": "cgEb89zm0nqN",
        "outputId": "c5df710e-388a-42bd-f6aa-9e7da57d6e25"
      },
      "source": [
        "#Implement best parameters on Naive Bayes model with test data\n",
        "model = GaussianNB(var_smoothing=0.1)\n",
        "model.fit(neg_X_train_power, neg_y_train)\n",
        "predictions = model.predict(neg_X_test_power)\n",
        "score = accuracy_score(neg_y_test, predictions)\n",
        "print(\"Best Naive Bayes Test Accuracy: {:.2%}\".format(score))"
      ],
      "execution_count": 34,
      "outputs": [
        {
          "output_type": "stream",
          "text": [
            "Best Naive Bayes Test Accuracy: 35.43%\n"
          ],
          "name": "stdout"
        }
      ]
    },
    {
      "cell_type": "markdown",
      "metadata": {
        "id": "IWQS7Tdgpe4f"
      },
      "source": [
        "##### **4.5C Decision Tree Model Hyperparameter Tuning**"
      ]
    },
    {
      "cell_type": "code",
      "metadata": {
        "colab": {
          "base_uri": "https://localhost:8080/"
        },
        "id": "v8iWKxU9pd0b",
        "outputId": "a334c8fb-9cb2-4924-c3e1-aefe3584db05"
      },
      "source": [
        "#Implement Decision tree with no tuning to see what max depth will be:\n",
        "model = DecisionTreeClassifier(random_state=21)\n",
        "model.fit(neg_X_train_tf_matrix, neg_y_train)\n",
        "predictions = model.predict(neg_X_test_tf_matrix)\n",
        "score = accuracy_score(neg_y_test, predictions)\n",
        "print(\"Decision Tree Accuracy: {:.2%}\".format(score))\n",
        "print(\"Max Depth:\", model.tree_.max_depth)\n",
        "best_predictions = predictions"
      ],
      "execution_count": 35,
      "outputs": [
        {
          "output_type": "stream",
          "text": [
            "Decision Tree Accuracy: 59.27%\n",
            "Max Depth: 83\n"
          ],
          "name": "stdout"
        }
      ]
    },
    {
      "cell_type": "code",
      "metadata": {
        "colab": {
          "base_uri": "https://localhost:8080/"
        },
        "id": "nVV5vqPI02Ug",
        "outputId": "1a85e95c-e897-4444-ca89-c10faf8db71c"
      },
      "source": [
        "#Decision Tree parameters\n",
        "params_DT = {'criterion': ['gini','entropy'],       #measure of impurity\n",
        "             'splitter': ['best', 'random'],        #method to select next feat.\n",
        "             'random_state':[21],\n",
        "             'max_depth': np.linspace(10,90,5)}     #depth of tree\n",
        "\n",
        "#use grid-search to tune hyperparameters:\n",
        "gs = GridSearchCV(estimator=DecisionTreeClassifier(), param_grid=params_DT, \n",
        "                  verbose=1, scoring='accuracy')\n",
        "gs.fit(neg_X_train_tf_matrix, neg_y_train)\n",
        "print(\"Best Parameters: \", gs.best_params_)\n",
        "print(\"Best Decision Tree Validation Accuracy: {:.2%}\".format(gs.best_score_))"
      ],
      "execution_count": 36,
      "outputs": [
        {
          "output_type": "stream",
          "text": [
            "Fitting 5 folds for each of 20 candidates, totalling 100 fits\n"
          ],
          "name": "stdout"
        },
        {
          "output_type": "stream",
          "text": [
            "[Parallel(n_jobs=1)]: Using backend SequentialBackend with 1 concurrent workers.\n"
          ],
          "name": "stderr"
        },
        {
          "output_type": "stream",
          "text": [
            "Best Parameters:  {'criterion': 'gini', 'max_depth': 50.0, 'random_state': 21, 'splitter': 'random'}\n",
            "Best Decision Tree Validation Accuracy: 56.11%\n"
          ],
          "name": "stdout"
        },
        {
          "output_type": "stream",
          "text": [
            "[Parallel(n_jobs=1)]: Done 100 out of 100 | elapsed:    6.2s finished\n"
          ],
          "name": "stderr"
        }
      ]
    },
    {
      "cell_type": "code",
      "metadata": {
        "colab": {
          "base_uri": "https://localhost:8080/"
        },
        "id": "t3zrgggn0-e0",
        "outputId": "a1299a5d-991d-4bfb-bfad-8479956b5245"
      },
      "source": [
        "#Implement best parameters on Decision Tree model with test data\n",
        "model = DecisionTreeClassifier(criterion='entropy', max_depth=50, \n",
        "                               random_state=21, splitter='random')\n",
        "model.fit(neg_X_train_tf_matrix, neg_y_train)\n",
        "predictions = model.predict(neg_X_test_tf_matrix)\n",
        "score = accuracy_score(neg_y_test, predictions)\n",
        "print(\"Best Decision Tree Accuracy: {:.2%}\".format(score))"
      ],
      "execution_count": 37,
      "outputs": [
        {
          "output_type": "stream",
          "text": [
            "Best Decision Tree Accuracy: 54.97%\n"
          ],
          "name": "stdout"
        }
      ]
    },
    {
      "cell_type": "markdown",
      "metadata": {
        "id": "ElB0ZJnIZjCn"
      },
      "source": [
        "### **5. Results [25 marks]**\n",
        "\n",
        "**1. Answer the research question stated above based on the outputs of your first model. Describe the results of the analysis and discuss your interpretation of the results.**\n",
        "\n",
        "* In the first model, the following validation F1 scores were obtained with the generic twitter data using both bag-of-words(BOW) and TF-IDF (TF):\n",
        "  * <u>Linear Regression</u>: 91.32% (BOW), 91.89% (TF)\n",
        "  * <u>Naive Bayes</u>: 83.23% (BOW), 82.68% (TF)\n",
        "  * <u>LinearSVC</u>: 90.79% (BOW), 91.77% (TF)\n",
        "  * <u>Decision Tree</u>: 90.27% (BOW), 90.58% (TF)\n",
        "  * <u>Random Forest</u>: 94.24% (BOW), **94.44% (TF)**\n",
        "  * <u>XGBoost</u>: 90.82% (BOW), 91.60% (TF)\n",
        "  * <u>K-Nearest Neighbors</u>: 92.61% (BOW), 91.96% (TF)\n",
        "\n",
        "* Since Random Forest performed best, it was used on the Canadian Election data and achieved a test F1 score of **53%.** This indicates a case of overfitting as the training accuracy is much higher than the test accuracy.  This could be improved perhaps by better feature engineering (ie. selecting more features) and better data cleaning.  Lemmatization could be a better approach than stemming.\n",
        "\n",
        "* Many of the current design considerations were dependent on computational speed.  For example, SVD was performed on the dataset to limit to 100 components (features) because the full dataset was taking a long time to converge or it was crashing the working memory.  This was a good compromise since only 2% of the features (100/4700) could account for 40% of the variance.  Further, in my initial attempts with the full dataset, the Linear Regression model accuracy was only a few % points higher.\n",
        "\n",
        "* Given higher computational capacity (multiple cores), these other approaches could be used to improve accuracy.\n",
        "\n",
        "**2. Explain how each party is viewed in the public eye based on the sentiment value.** \n",
        "\n",
        "* From the results, which can be seen in the graph in section 4.2 and the powerpoint slide #4, all 3 of the major parties had similar numbers of tweets, which seems to indicate a close race.  Further, the main target of negative tweets were the Conservatives and Liberals, which were the primary competitors.  The predictions and true values could be within a margin of error.  Lastly, all parties recieved more negative than positive tweets.\n",
        "\n",
        "**3. For the second model, based on the model that worked best, provide a few reasons why your model may fail to predict the correct negative reasons. Back up your reasoning with examples from the test sets.**\n",
        "\n",
        "* The second model achieved the following accuracies:\n",
        "  1. <u>Logistics Regression</u>: validation - 58.81%, test - 58.94% \n",
        "  2. <u>Naive Bayes</u>: validation - 38.06%, test - 35.43%\n",
        "  3. <u>Decision Tree</u>: validation - 56.11%, test - 54.97%\n",
        "\n",
        "* Logistics Regression was the best model overall even when compared with a couple other (bonus) models in the next section:\n",
        "  4. <u>**(Bonus)** Support Vector Machines</u>: validation - 57.67%, text - 54.30%\n",
        "  5. <u>**(Bonus)** K-Nearest Neighbors</u>: validation - 52.84%, test - 50.99%\n",
        "\n",
        "* These models fail because the Canadian election twitter data is a particularly small and unbalanced data set.  We only have 1006 data points and half the potential classes have about 5% of the data:\n",
        "  * Women's reproductive rights and racism - 45\n",
        "  * Economy - 51\n",
        "  * Climate problem - 41  \n",
        "\n",
        "* Further, if you look at the breakdown of the test set (see figure in Bonus Section), you can see that there are less than 20 examples out of the total 303 test points for the same three categories: Women's rights, economy, climate.\n",
        "\n",
        "**4. For both models, suggest one way you can improve the accuracy of your models.**\n",
        "\n",
        "* For the sentiment analysis (first) model, accuracy could be improved with better data cleaning and pre-processing.  For example, I used **stemming** but **lemmatization** could provide more accurate results.  This was avoided due to the higher computational cost.\n",
        "\n",
        "* For the negative tweet reason prediction (second) model, accuracy could be used with potentially an ensemble method.  Since accuracies were close between training and test data sets, increasing the model complexity could lead to better results."
      ]
    },
    {
      "cell_type": "markdown",
      "metadata": {
        "id": "FuYGuxxDlrax"
      },
      "source": [
        "### **6. Bonus [10% marks]**\n",
        "\n",
        "We will give up to 10% bonus marks for innovative work going substantially beyond theminimal requirements. Some ideas:\n",
        "\n",
        "* While the exploratory analysis section requires only two figures, you can explore the data further. You can also display the results of the model visually.\n",
        "\n",
        "* Hyperparameter tuning for the models"
      ]
    },
    {
      "cell_type": "markdown",
      "metadata": {
        "id": "uJPkWrHhghTv"
      },
      "source": [
        "#### **6.1 Exploratory Data Analysis - Feature Importance Visualizations**"
      ]
    },
    {
      "cell_type": "code",
      "metadata": {
        "colab": {
          "base_uri": "https://localhost:8080/",
          "height": 350
        },
        "id": "i51pZnirirxV",
        "outputId": "9be0287f-0583-4135-8601-67403eaff58d"
      },
      "source": [
        "#plot of explained variances\n",
        "fig, ax = plt.subplots(1,2, figsize=(12,5), sharey=True)\n",
        "ax[0].bar(x=range(100), height=np.flip(np.sort(svd_cv.explained_variance_ratio_)))\n",
        "ax[1].bar(x=range(100), height=np.flip(np.sort(svd_tfidf.explained_variance_ratio_)))\n",
        "ax[0].set_ylabel('% Variance Explained')\n",
        "for i in range(2):\n",
        "    ax[i].set_xlabel('Top 100 Principal Components')\n",
        "ax[0].set_title('Explained % Var of SVD Top 100 Components using BOW')\n",
        "ax[1].set_title('Explained % Var of SVD Top 100 Components using TF-IDF')\n",
        "plt.show()"
      ],
      "execution_count": 62,
      "outputs": [
        {
          "output_type": "display_data",
          "data": {
            "image/png": "[encoded data removed]",
            "text/plain": [
              "<Figure size 864x360 with 2 Axes>"
            ]
          },
          "metadata": {
            "tags": []
          }
        }
      ]
    },
    {
      "cell_type": "markdown",
      "metadata": {
        "id": "GjuYPgQDU5tb"
      },
      "source": [
        "#### **6.2 Visualizations for Model Results**"
      ]
    },
    {
      "cell_type": "markdown",
      "metadata": {
        "id": "vJ6hK8-oiNWb"
      },
      "source": [
        "##### **Visualize Negative Tweet Test Data**"
      ]
    },
    {
      "cell_type": "code",
      "metadata": {
        "colab": {
          "base_uri": "https://localhost:8080/"
        },
        "id": "Us4GS6P6QOcJ",
        "outputId": "589a55c7-bed9-4197-bafa-c61f898d9f3d"
      },
      "source": [
        "#For the discussion on why the second model does not perform well\n",
        "#we look at the test data target values\n",
        "neg_y_test.value_counts()"
      ],
      "execution_count": 38,
      "outputs": [
        {
          "output_type": "execute_result",
          "data": {
            "text/plain": [
              "Others                     122\n",
              "Scandal                     84\n",
              "Tell lies                   61\n",
              "Women rights and racism     12\n",
              "Economy                     12\n",
              "Climate Problem             11\n",
              "Name: negative_reason, dtype: int64"
            ]
          },
          "metadata": {
            "tags": []
          },
          "execution_count": 38
        }
      ]
    },
    {
      "cell_type": "code",
      "metadata": {
        "colab": {
          "base_uri": "https://localhost:8080/",
          "height": 392
        },
        "id": "afs9jzFrQgH0",
        "outputId": "aadceebd-fa2c-45b0-95e2-6fa93890144e"
      },
      "source": [
        "# visually look at the test data targets\n",
        "neg_y_test_df = pd.DataFrame(neg_y_test)\n",
        "fig, axes = plt.subplots(figsize=(10,6))\n",
        "sns.countplot(x='negative_reason', data=neg_y_test_df)\n",
        "plt.title('Negative Tweet Reasons Distribution for Test Data Only')\n",
        "plt.xticks(rotation=60)\n",
        "fig.subplots_adjust(bottom=0.4)"
      ],
      "execution_count": 39,
      "outputs": [
        {
          "output_type": "display_data",
          "data": {
            "image/png": "[encoded data removed]",
            "text/plain": [
              "<Figure size 720x432 with 1 Axes>"
            ]
          },
          "metadata": {
            "tags": []
          }
        }
      ]
    },
    {
      "cell_type": "markdown",
      "metadata": {
        "id": "9jQJhtQZdAfA"
      },
      "source": [
        "##### **Visualize Second Model Results**"
      ]
    },
    {
      "cell_type": "code",
      "metadata": {
        "colab": {
          "base_uri": "https://localhost:8080/",
          "height": 228
        },
        "id": "69JiZ-sfYSWB",
        "outputId": "4f4ddfb7-11d9-4f45-9260-fa20dc22ca53"
      },
      "source": [
        "#best_predictions is from linear regression model\n",
        "reason_predictions = pd.Series(best_predictions).value_counts()\n",
        "reason_true_values = neg_y_test.value_counts()      #should be 302 data points\n",
        "\n",
        "#create data frame of true vs. predictions in order to plot\n",
        "prediction_df = pd.DataFrame([reason_true_values, reason_predictions], \n",
        "                             index=['true-values','predictions']).transpose()\n",
        "prediction_df"
      ],
      "execution_count": 40,
      "outputs": [
        {
          "output_type": "execute_result",
          "data": {
            "text/html": [
              "<div>\n",
              "<style scoped>\n",
              "    .dataframe tbody tr th:only-of-type {\n",
              "        vertical-align: middle;\n",
              "    }\n",
              "\n",
              "    .dataframe tbody tr th {\n",
              "        vertical-align: top;\n",
              "    }\n",
              "\n",
              "    .dataframe thead th {\n",
              "        text-align: right;\n",
              "    }\n",
              "</style>\n",
              "<table border=\"1\" class=\"dataframe\">\n",
              "  <thead>\n",
              "    <tr style=\"text-align: right;\">\n",
              "      <th></th>\n",
              "      <th>true-values</th>\n",
              "      <th>predictions</th>\n",
              "    </tr>\n",
              "  </thead>\n",
              "  <tbody>\n",
              "    <tr>\n",
              "      <th>Others</th>\n",
              "      <td>122</td>\n",
              "      <td>138</td>\n",
              "    </tr>\n",
              "    <tr>\n",
              "      <th>Scandal</th>\n",
              "      <td>84</td>\n",
              "      <td>83</td>\n",
              "    </tr>\n",
              "    <tr>\n",
              "      <th>Tell lies</th>\n",
              "      <td>61</td>\n",
              "      <td>50</td>\n",
              "    </tr>\n",
              "    <tr>\n",
              "      <th>Women rights and racism</th>\n",
              "      <td>12</td>\n",
              "      <td>6</td>\n",
              "    </tr>\n",
              "    <tr>\n",
              "      <th>Economy</th>\n",
              "      <td>12</td>\n",
              "      <td>17</td>\n",
              "    </tr>\n",
              "    <tr>\n",
              "      <th>Climate Problem</th>\n",
              "      <td>11</td>\n",
              "      <td>8</td>\n",
              "    </tr>\n",
              "  </tbody>\n",
              "</table>\n",
              "</div>"
            ],
            "text/plain": [
              "                         true-values  predictions\n",
              "Others                           122          138\n",
              "Scandal                           84           83\n",
              "Tell lies                         61           50\n",
              "Women rights and racism           12            6\n",
              "Economy                           12           17\n",
              "Climate Problem                   11            8"
            ]
          },
          "metadata": {
            "tags": []
          },
          "execution_count": 40
        }
      ]
    },
    {
      "cell_type": "code",
      "metadata": {
        "colab": {
          "base_uri": "https://localhost:8080/",
          "height": 350
        },
        "id": "cmteG-pTaKGS",
        "outputId": "dafbacc9-4926-45c5-8f9d-4a458ca3fe23"
      },
      "source": [
        "plt.figure(figsize=(12,5))\n",
        "plt.bar(prediction_df.index, prediction_df['true-values'], alpha=0.3,\n",
        "       color = ['green', 'red','darkblue', 'darkorange', 'purple', 'lightblue'], \n",
        "       label='true-values')\n",
        "plt.bar(prediction_df.index, prediction_df['predictions'], alpha=0.6,\n",
        "        color = ['green', 'red','darkblue', 'darkorange', 'purple', 'lightblue'], \n",
        "        label='predictions')\n",
        "\n",
        "plt.xlabel('Negative Reason')\n",
        "plt.ylabel('Count of Tweets')\n",
        "plt.title('Linear Regression Predictions vs. Actual Reason for Negative Tweets')\n",
        "plt.legend()\n",
        "plt.show()"
      ],
      "execution_count": 41,
      "outputs": [
        {
          "output_type": "display_data",
          "data": {
            "image/png": "[encoded data removed]",
            "text/plain": [
              "<Figure size 864x360 with 1 Axes>"
            ]
          },
          "metadata": {
            "tags": []
          }
        }
      ]
    },
    {
      "cell_type": "markdown",
      "metadata": {
        "id": "9ckH9YHeVDcy"
      },
      "source": [
        "#### **6.2 Additional Model Hyperparameter Tuning**\n",
        "\n",
        "In this section, I attempt additional hyper-parameter tuning for some other models for part 4.4 - Multiclass Classifier to predict negative reasons of Canadian election tweets."
      ]
    },
    {
      "cell_type": "markdown",
      "metadata": {
        "id": "ot3tOs-jVYTq"
      },
      "source": [
        "##### **6.21 Support Vector Machines (SVM) Model Hyperparameter Tuning**"
      ]
    },
    {
      "cell_type": "code",
      "metadata": {
        "colab": {
          "base_uri": "https://localhost:8080/"
        },
        "id": "MbmR_L6oWUKZ",
        "outputId": "6cb050d8-e677-41b0-e312-8c3838d8c39d"
      },
      "source": [
        "np.logspace(2,-4, num=7) "
      ],
      "execution_count": 42,
      "outputs": [
        {
          "output_type": "execute_result",
          "data": {
            "text/plain": [
              "array([1.e+02, 1.e+01, 1.e+00, 1.e-01, 1.e-02, 1.e-03, 1.e-04])"
            ]
          },
          "metadata": {
            "tags": []
          },
          "execution_count": 42
        }
      ]
    },
    {
      "cell_type": "code",
      "metadata": {
        "id": "1TlpT8XdmR3f",
        "colab": {
          "base_uri": "https://localhost:8080/"
        },
        "outputId": "8ac587bc-7d01-4639-b4e9-5c28b37afb2b"
      },
      "source": [
        "#SVM parameters\n",
        "params_SVM= {'penalty': ['l1','l2'],      \n",
        "             'loss': ['hinge', 'squared_hinge'],\n",
        "             'C': np.logspace(2,-3, num=6),    #[10, 1, 0.1, 0.01, 0.001, 0.001]\n",
        "             'random_state':[21]}    \n",
        "\n",
        "#use grid-search to tune hyperparameters:\n",
        "gs = GridSearchCV(estimator=LinearSVC(), param_grid=params_SVM, \n",
        "                  verbose=1, scoring='accuracy')\n",
        "gs.fit(neg_X_train_tf_matrix, neg_y_train)\n",
        "print(\"Best Parameters: \", gs.best_params_)\n",
        "print(\"Best Decision Tree Validation Accuracy: {:.2%}\".format(gs.best_score_))"
      ],
      "execution_count": 43,
      "outputs": [
        {
          "output_type": "stream",
          "text": [
            "Fitting 5 folds for each of 24 candidates, totalling 120 fits\n"
          ],
          "name": "stdout"
        },
        {
          "output_type": "stream",
          "text": [
            "[Parallel(n_jobs=1)]: Using backend SequentialBackend with 1 concurrent workers.\n",
            "/usr/local/lib/python3.7/dist-packages/sklearn/model_selection/_validation.py:536: FitFailedWarning: Estimator fit failed. The score on this train-test partition for these parameters will be set to nan. Details: \n",
            "ValueError: Unsupported set of arguments: The combination of penalty='l1' and loss='hinge' is not supported, Parameters: penalty='l1', loss='hinge', dual=True\n",
            "\n",
            "  FitFailedWarning)\n",
            "/usr/local/lib/python3.7/dist-packages/sklearn/model_selection/_validation.py:536: FitFailedWarning: Estimator fit failed. The score on this train-test partition for these parameters will be set to nan. Details: \n",
            "ValueError: Unsupported set of arguments: The combination of penalty='l1' and loss='squared_hinge' are not supported when dual=True, Parameters: penalty='l1', loss='squared_hinge', dual=True\n",
            "\n",
            "  FitFailedWarning)\n",
            "/usr/local/lib/python3.7/dist-packages/sklearn/svm/_base.py:947: ConvergenceWarning: Liblinear failed to converge, increase the number of iterations.\n",
            "  \"the number of iterations.\", ConvergenceWarning)\n"
          ],
          "name": "stderr"
        },
        {
          "output_type": "stream",
          "text": [
            "Best Parameters:  {'C': 10.0, 'loss': 'squared_hinge', 'penalty': 'l2', 'random_state': 21}\n",
            "Best Decision Tree Validation Accuracy: 57.67%\n"
          ],
          "name": "stdout"
        },
        {
          "output_type": "stream",
          "text": [
            "[Parallel(n_jobs=1)]: Done 120 out of 120 | elapsed:    1.5s finished\n"
          ],
          "name": "stderr"
        }
      ]
    },
    {
      "cell_type": "code",
      "metadata": {
        "colab": {
          "base_uri": "https://localhost:8080/"
        },
        "id": "uHc-89A1WbL3",
        "outputId": "6f592310-fe35-42b0-b379-0518d04223e1"
      },
      "source": [
        "#Implement best parameters on SVM model with test data\n",
        "model = LinearSVC(loss='hinge', C=10, random_state=21)\n",
        "model.fit(neg_X_train_tf_matrix, neg_y_train)\n",
        "predictions = model.predict(neg_X_test_tf_matrix)\n",
        "score = accuracy_score(neg_y_test, predictions)\n",
        "print(\"Best SVM Test Accuracy: {:.2%}\".format(score))"
      ],
      "execution_count": 48,
      "outputs": [
        {
          "output_type": "stream",
          "text": [
            "Best SVM Test Accuracy: 54.30%\n"
          ],
          "name": "stdout"
        }
      ]
    },
    {
      "cell_type": "markdown",
      "metadata": {
        "id": "3OrX2jHbXIdM"
      },
      "source": [
        "##### **6.22 K-Nearest Neighbors Model Hyperparameter Tuning**"
      ]
    },
    {
      "cell_type": "code",
      "metadata": {
        "colab": {
          "base_uri": "https://localhost:8080/"
        },
        "id": "D2fYrFPNXHtp",
        "outputId": "d52d8617-f6e9-49fb-9a43-5edb05a4be3b"
      },
      "source": [
        "#KNN parameters\n",
        "params_KNN= {'n_neighbors': [4,6,8,10,14,18], \n",
        "              'weights': ['uniform', 'distance']}    \n",
        "\n",
        "#use grid-search to tune hyperparameters:\n",
        "gs = GridSearchCV(estimator=KNeighborsClassifier(), param_grid=params_KNN, \n",
        "                  verbose=1, scoring='accuracy')\n",
        "gs.fit(neg_X_train_tf_matrix.toarray(), neg_y_train)\n",
        "print(\"Best Parameters: \", gs.best_params_)\n",
        "print(\"Best KNN Validation Accuracy: {:.2%}\".format(gs.best_score_))"
      ],
      "execution_count": 45,
      "outputs": [
        {
          "output_type": "stream",
          "text": [
            "Fitting 5 folds for each of 12 candidates, totalling 60 fits\n"
          ],
          "name": "stdout"
        },
        {
          "output_type": "stream",
          "text": [
            "[Parallel(n_jobs=1)]: Using backend SequentialBackend with 1 concurrent workers.\n",
            "[Parallel(n_jobs=1)]: Done  60 out of  60 | elapsed:   52.9s finished\n"
          ],
          "name": "stderr"
        },
        {
          "output_type": "stream",
          "text": [
            "Best Parameters:  {'n_neighbors': 18, 'weights': 'distance'}\n",
            "Best KNN Validation Accuracy: 52.84%\n"
          ],
          "name": "stdout"
        }
      ]
    },
    {
      "cell_type": "code",
      "metadata": {
        "colab": {
          "base_uri": "https://localhost:8080/"
        },
        "id": "xHE2V588YOy2",
        "outputId": "7cddb7c8-45a1-47b1-c67e-eb22ca9a9514"
      },
      "source": [
        "#Implement best parameters on SVM model with test data\n",
        "model = KNeighborsClassifier(n_neighbors=18, weights='distance')\n",
        "model.fit(neg_X_train_tf_matrix, neg_y_train)\n",
        "predictions = model.predict(neg_X_test_tf_matrix)\n",
        "score = accuracy_score(neg_y_test, predictions)\n",
        "print(\"Best KNN Test Accuracy: {:.2%}\".format(score))"
      ],
      "execution_count": 47,
      "outputs": [
        {
          "output_type": "stream",
          "text": [
            "Best KNN Test Accuracy: 50.99%\n"
          ],
          "name": "stdout"
        }
      ]
    }
  ]
}