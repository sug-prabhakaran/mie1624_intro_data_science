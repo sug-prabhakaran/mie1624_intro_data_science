{
 "cells": [
  {
   "cell_type": "markdown",
   "metadata": {},
   "source": [
    "# MIE1624 Tutorial - Assignment 3"
   ]
  },
  {
   "cell_type": "markdown",
   "metadata": {},
   "source": [
    "In this tutorial, we will go over the following:\n",
    " - What is expected of by the assignment\n",
    " - Reading in data\n",
    " - String manipulation\n",
    " - Simple plots\n",
    " - Machine learning\n",
    "     - preparing data\n",
    "     - making predictions\n",
    "     - validating model\n",
    "     \n",
    "**Note: All libraries are allowed except for those that do sentiment analysis, such as Watson Natural Language Processing**"
   ]
  },
  {
   "cell_type": "markdown",
   "metadata": {},
   "source": [
    "#### Install necessary libraries"
   ]
  },
  {
   "cell_type": "code",
   "execution_count": 1,
   "metadata": {},
   "outputs": [],
   "source": [
    "#!pip install numpy\n",
    "#!pip install pandas\n",
    "#!pip install sklearn"
   ]
  },
  {
   "cell_type": "markdown",
   "metadata": {},
   "source": [
    "## How to Read in Data"
   ]
  },
  {
   "cell_type": "markdown",
   "metadata": {},
   "source": [
    "There are several ways to read data into a dataframe. Below, you can see how data can be read in using Python built in file read in method, and Panda's read_csv method."
   ]
  },
  {
   "cell_type": "markdown",
   "metadata": {},
   "source": [
    "### Python's open and read function\n",
    "Here is an example of how Python open and read function can be used to read in a file into a list."
   ]
  },
  {
   "cell_type": "markdown",
   "metadata": {},
   "source": [
    "The open().read() function reads in the contents of a file into a string variable (in our case tweets)."
   ]
  },
  {
   "cell_type": "code",
   "execution_count": 3,
   "metadata": {},
   "outputs": [
    {
     "data": {
      "text/plain": [
       "'tweet,sentiment\\nHappy St. Patty\\'s Fri-yay! - Drinking a Guinness Original Extra Stout (Canada / USA) @ EaDo - https://t.co/hpOsiqG0jK #photo,0.267517\\n\"Delicious fritters! (at @Copper_Kettle_ Cafe in Waterdown, Ontario) https://t.co/nEAyFYFxkd\",0.456975\\nTrudeau government gifts $650 millions overseas to \\'kill\\' life and/or prevent procreation.He offers $120 million to feed the world in hunger,-0.283957\\n\"Thai food is HOT tonight (@ Pai in Toronto, ON w/ @tsangzillavs) https://t.co/Y1rqDVLib9\",-0.43'"
      ]
     },
     "execution_count": 3,
     "metadata": {},
     "output_type": "execute_result"
    }
   ],
   "source": [
    "tweets = open('tweets_dataset.csv','r',encoding=\"utf8\").read()\n",
    "tweets[0:500]"
   ]
  },
  {
   "cell_type": "markdown",
   "metadata": {},
   "source": [
    "Now to split this string input into a list with each element containing a line of the file, we can use the split function. The split function will split a string wherever it finds the string argument passed to it. E.g, str.split('.') will split the str wherever it finds a '.'. In our case, to split by line, we split by the newline handle '\\n' which can be seen in the output above."
   ]
  },
  {
   "cell_type": "code",
   "execution_count": 4,
   "metadata": {},
   "outputs": [
    {
     "data": {
      "text/plain": [
       "['tweet,sentiment',\n",
       " \"Happy St. Patty's Fri-yay! - Drinking a Guinness Original Extra Stout (Canada / USA) @ EaDo - https://t.co/hpOsiqG0jK #photo,0.267517\",\n",
       " '\"Delicious fritters! (at @Copper_Kettle_ Cafe in Waterdown, Ontario) https://t.co/nEAyFYFxkd\",0.456975',\n",
       " \"Trudeau government gifts $650 millions overseas to 'kill' life and/or prevent procreation.He offers $120 million to feed the world in hunger,-0.283957\",\n",
       " '\"Thai food is HOT tonight (@ Pai in Toronto, ON w/ @tsangzillavs) https://t.co/Y1rqDVLib9\",-0.433962']"
      ]
     },
     "execution_count": 4,
     "metadata": {},
     "output_type": "execute_result"
    }
   ],
   "source": [
    "tweetsList = tweets.split('\\n')\n",
    "tweetsList[0:5]"
   ]
  },
  {
   "cell_type": "code",
   "execution_count": 5,
   "metadata": {},
   "outputs": [
    {
     "data": {
      "text/plain": [
       "['RT @CTVToronto: Toronto police searching for missing elderly man with dementia https://t.co/guwZ8FhGlJ https://t.co/BKb6u8mV6o,-0.390022',\n",
       " \"Oh ❤break. Rock+Roll legend Chuck Berry has died: https://t.co/uXFmAnLLcB I ❤'d him..but I've a friend who idolized him..he'll be crushed.,-0.792687\",\n",
       " '']"
      ]
     },
     "execution_count": 5,
     "metadata": {},
     "output_type": "execute_result"
    }
   ],
   "source": [
    "tweetsList[-3:]"
   ]
  },
  {
   "cell_type": "markdown",
   "metadata": {},
   "source": [
    "We will drop the first element (first line) because it only contains the headings of the documents, and we will drop the last element because it is empty.We can acheive this using the del function."
   ]
  },
  {
   "cell_type": "code",
   "execution_count": 6,
   "metadata": {},
   "outputs": [
    {
     "name": "stdout",
     "output_type": "stream",
     "text": [
      "[\"Happy St. Patty's Fri-yay! - Drinking a Guinness Original Extra Stout (Canada / USA) @ EaDo - https://t.co/hpOsiqG0jK #photo,0.267517\", '\"Delicious fritters! (at @Copper_Kettle_ Cafe in Waterdown, Ontario) https://t.co/nEAyFYFxkd\",0.456975', \"Trudeau government gifts $650 millions overseas to 'kill' life and/or prevent procreation.He offers $120 million to feed the world in hunger,-0.283957\", '\"Thai food is HOT tonight (@ Pai in Toronto, ON w/ @tsangzillavs) https://t.co/Y1rqDVLib9\",-0.433962', '\"The iconic Zanzibar (pictured here) has been ordered by the City of Toronto, to take down its tv screen due to city? https://t.co/qXP5pjVGym\",0.568962']\n",
      "['RT @CTVToronto: Toronto police searching for missing elderly man with dementia https://t.co/guwZ8FhGlJ https://t.co/BKb6u8mV6o,-0.390022', \"Oh ❤break. Rock+Roll legend Chuck Berry has died: https://t.co/uXFmAnLLcB I ❤'d him..but I've a friend who idolized him..he'll be crushed.,-0.792687\"]\n"
     ]
    }
   ],
   "source": [
    "del tweetsList[0] # delete first element\n",
    "del tweetsList[-1] # delete last element\n",
    "print (tweetsList[0:5])\n",
    "print (tweetsList[-2:])"
   ]
  },
  {
   "cell_type": "code",
   "execution_count": 7,
   "metadata": {},
   "outputs": [
    {
     "data": {
      "text/plain": [
       "\"Trudeau government gifts $650 millions overseas to 'kill' life and/or prevent procreation.He offers $120 million to feed the world in hunger,-0.283957\""
      ]
     },
     "execution_count": 7,
     "metadata": {},
     "output_type": "execute_result"
    }
   ],
   "source": [
    "tweetsList[2]"
   ]
  },
  {
   "cell_type": "code",
   "execution_count": 8,
   "metadata": {},
   "outputs": [
    {
     "data": {
      "text/plain": [
       "'\"Thai food is HOT tonight (@ Pai in Toronto, ON w/ @tsangzillavs) https://t.co/Y1rqDVLib9\",-0.433962'"
      ]
     },
     "execution_count": 8,
     "metadata": {},
     "output_type": "execute_result"
    }
   ],
   "source": [
    "tweetsList[3]"
   ]
  },
  {
   "cell_type": "markdown",
   "metadata": {},
   "source": [
    "We can see that each line has the sentiment score stored at the end of the tweet separated by a comma. To separate this using for expressions. Here note that when splitting with commas, the commas in the tweet would also cause splits but since the sentiment is always at the end, the final element of split string is the sentiment. We can access the final element of the string by using '-1'. We will also typecast the sentiments which are currently stored as strings to floats."
   ]
  },
  {
   "cell_type": "markdown",
   "metadata": {},
   "source": [
    "We can also see the some tweets are led by \" that we need to remove to cleanly read the string."
   ]
  },
  {
   "cell_type": "markdown",
   "metadata": {},
   "source": [
    "### Processing one tweet\n",
    "\n",
    "Split string by commas"
   ]
  },
  {
   "cell_type": "code",
   "execution_count": 9,
   "metadata": {},
   "outputs": [
    {
     "data": {
      "text/plain": [
       "['\"Thai food is HOT tonight (@ Pai in Toronto',\n",
       " ' ON w/ @tsangzillavs) https://t.co/Y1rqDVLib9\"',\n",
       " '-0.433962']"
      ]
     },
     "execution_count": 9,
     "metadata": {},
     "output_type": "execute_result"
    }
   ],
   "source": [
    "tweetsList[3].split(',')"
   ]
  },
  {
   "cell_type": "markdown",
   "metadata": {},
   "source": [
    "Select the first part of the string (ignoring the sentiment)"
   ]
  },
  {
   "cell_type": "code",
   "execution_count": 10,
   "metadata": {},
   "outputs": [
    {
     "data": {
      "text/plain": [
       "['\"Delicious fritters! (at @Copper_Kettle_ Cafe in Waterdown',\n",
       " ' Ontario) https://t.co/nEAyFYFxkd\"']"
      ]
     },
     "execution_count": 10,
     "metadata": {},
     "output_type": "execute_result"
    }
   ],
   "source": [
    "tweetsList[1].split(',')[:-1]"
   ]
  },
  {
   "cell_type": "markdown",
   "metadata": {},
   "source": [
    "The tweet is currently stored inside a list in the first index. "
   ]
  },
  {
   "cell_type": "code",
   "execution_count": 11,
   "metadata": {},
   "outputs": [
    {
     "data": {
      "text/plain": [
       "'\"Delicious fritters! (at @Copper_Kettle_ Cafe in Waterdown'"
      ]
     },
     "execution_count": 11,
     "metadata": {},
     "output_type": "execute_result"
    }
   ],
   "source": [
    "tweetsList[1].split(',')[:-1][0]"
   ]
  },
  {
   "cell_type": "markdown",
   "metadata": {},
   "source": [
    "Now strip the first character if it is a \"."
   ]
  },
  {
   "cell_type": "code",
   "execution_count": 12,
   "metadata": {},
   "outputs": [
    {
     "data": {
      "text/plain": [
       "'Delicious fritters! (at @Copper_Kettle_ Cafe in Waterdown'"
      ]
     },
     "execution_count": 12,
     "metadata": {},
     "output_type": "execute_result"
    }
   ],
   "source": [
    "tweetsList[1].split(',')[:-1][0].lstrip('\"')"
   ]
  },
  {
   "cell_type": "markdown",
   "metadata": {},
   "source": [
    "### Apply to all"
   ]
  },
  {
   "cell_type": "code",
   "execution_count": 13,
   "metadata": {},
   "outputs": [],
   "source": [
    "tweets = [tw.split(',')[:-1][0].lstrip('\"') for tw in tweetsList]\n",
    "sentiments = [float(tw.split(',')[-1]) for tw in tweetsList]"
   ]
  },
  {
   "cell_type": "code",
   "execution_count": 14,
   "metadata": {},
   "outputs": [
    {
     "name": "stdout",
     "output_type": "stream",
     "text": [
      "[\"Happy St. Patty's Fri-yay! - Drinking a Guinness Original Extra Stout (Canada / USA) @ EaDo - https://t.co/hpOsiqG0jK #photo\", 'Delicious fritters! (at @Copper_Kettle_ Cafe in Waterdown', \"Trudeau government gifts $650 millions overseas to 'kill' life and/or prevent procreation.He offers $120 million to feed the world in hunger\", 'Thai food is HOT tonight (@ Pai in Toronto', 'The iconic Zanzibar (pictured here) has been ordered by the City of Toronto']\n"
     ]
    }
   ],
   "source": [
    "print(tweets[0:5])"
   ]
  },
  {
   "cell_type": "code",
   "execution_count": 15,
   "metadata": {},
   "outputs": [
    {
     "name": "stdout",
     "output_type": "stream",
     "text": [
      "[0.267517, 0.456975, -0.283957, -0.433962, 0.568962]\n"
     ]
    }
   ],
   "source": [
    "print(sentiments[0:5])"
   ]
  },
  {
   "cell_type": "markdown",
   "metadata": {},
   "source": [
    "### Create a pandas dataframe\n",
    "\n",
    "Now to convert these two lists into dataframes. We can use the following:"
   ]
  },
  {
   "cell_type": "code",
   "execution_count": 16,
   "metadata": {},
   "outputs": [
    {
     "data": {
      "text/html": [
       "<div>\n",
       "<style scoped>\n",
       "    .dataframe tbody tr th:only-of-type {\n",
       "        vertical-align: middle;\n",
       "    }\n",
       "\n",
       "    .dataframe tbody tr th {\n",
       "        vertical-align: top;\n",
       "    }\n",
       "\n",
       "    .dataframe thead th {\n",
       "        text-align: right;\n",
       "    }\n",
       "</style>\n",
       "<table border=\"1\" class=\"dataframe\">\n",
       "  <thead>\n",
       "    <tr style=\"text-align: right;\">\n",
       "      <th></th>\n",
       "      <th>tweets</th>\n",
       "      <th>sentiment</th>\n",
       "    </tr>\n",
       "  </thead>\n",
       "  <tbody>\n",
       "    <tr>\n",
       "      <th>0</th>\n",
       "      <td>Happy St. Patty's Fri-yay! - Drinking a Guinne...</td>\n",
       "      <td>0.267517</td>\n",
       "    </tr>\n",
       "    <tr>\n",
       "      <th>1</th>\n",
       "      <td>Delicious fritters! (at @Copper_Kettle_ Cafe i...</td>\n",
       "      <td>0.456975</td>\n",
       "    </tr>\n",
       "    <tr>\n",
       "      <th>2</th>\n",
       "      <td>Trudeau government gifts $650 millions oversea...</td>\n",
       "      <td>-0.283957</td>\n",
       "    </tr>\n",
       "    <tr>\n",
       "      <th>3</th>\n",
       "      <td>Thai food is HOT tonight (@ Pai in Toronto</td>\n",
       "      <td>-0.433962</td>\n",
       "    </tr>\n",
       "    <tr>\n",
       "      <th>4</th>\n",
       "      <td>The iconic Zanzibar (pictured here) has been o...</td>\n",
       "      <td>0.568962</td>\n",
       "    </tr>\n",
       "  </tbody>\n",
       "</table>\n",
       "</div>"
      ],
      "text/plain": [
       "                                              tweets  sentiment\n",
       "0  Happy St. Patty's Fri-yay! - Drinking a Guinne...   0.267517\n",
       "1  Delicious fritters! (at @Copper_Kettle_ Cafe i...   0.456975\n",
       "2  Trudeau government gifts $650 millions oversea...  -0.283957\n",
       "3         Thai food is HOT tonight (@ Pai in Toronto  -0.433962\n",
       "4  The iconic Zanzibar (pictured here) has been o...   0.568962"
      ]
     },
     "execution_count": 16,
     "metadata": {},
     "output_type": "execute_result"
    }
   ],
   "source": [
    "import pandas as pd\n",
    "\n",
    "df = pd.DataFrame ({\n",
    "        'tweets': tweets,\n",
    "        'sentiment':sentiments\n",
    "})\n",
    "\n",
    "df.head()"
   ]
  },
  {
   "cell_type": "markdown",
   "metadata": {},
   "source": [
    "### Panda's read_csv function\n",
    "\n",
    "A simpler way to do the above is with Panda's read_csv function as seen below. This will read a csv file directly into a pandas dataframe. This may file if your file you're trying to read in isn't properly structured."
   ]
  },
  {
   "cell_type": "code",
   "execution_count": 17,
   "metadata": {
    "scrolled": true
   },
   "outputs": [
    {
     "data": {
      "text/html": [
       "<div>\n",
       "<style scoped>\n",
       "    .dataframe tbody tr th:only-of-type {\n",
       "        vertical-align: middle;\n",
       "    }\n",
       "\n",
       "    .dataframe tbody tr th {\n",
       "        vertical-align: top;\n",
       "    }\n",
       "\n",
       "    .dataframe thead th {\n",
       "        text-align: right;\n",
       "    }\n",
       "</style>\n",
       "<table border=\"1\" class=\"dataframe\">\n",
       "  <thead>\n",
       "    <tr style=\"text-align: right;\">\n",
       "      <th></th>\n",
       "      <th>tweet</th>\n",
       "      <th>sentiment</th>\n",
       "    </tr>\n",
       "  </thead>\n",
       "  <tbody>\n",
       "    <tr>\n",
       "      <th>0</th>\n",
       "      <td>Happy St. Patty's Fri-yay! - Drinking a Guinne...</td>\n",
       "      <td>0.267517</td>\n",
       "    </tr>\n",
       "    <tr>\n",
       "      <th>1</th>\n",
       "      <td>Delicious fritters! (at @Copper_Kettle_ Cafe i...</td>\n",
       "      <td>0.456975</td>\n",
       "    </tr>\n",
       "    <tr>\n",
       "      <th>2</th>\n",
       "      <td>Trudeau government gifts $650 millions oversea...</td>\n",
       "      <td>-0.283957</td>\n",
       "    </tr>\n",
       "    <tr>\n",
       "      <th>3</th>\n",
       "      <td>Thai food is HOT tonight (@ Pai in Toronto, ON...</td>\n",
       "      <td>-0.433962</td>\n",
       "    </tr>\n",
       "    <tr>\n",
       "      <th>4</th>\n",
       "      <td>The iconic Zanzibar (pictured here) has been o...</td>\n",
       "      <td>0.568962</td>\n",
       "    </tr>\n",
       "  </tbody>\n",
       "</table>\n",
       "</div>"
      ],
      "text/plain": [
       "                                               tweet  sentiment\n",
       "0  Happy St. Patty's Fri-yay! - Drinking a Guinne...   0.267517\n",
       "1  Delicious fritters! (at @Copper_Kettle_ Cafe i...   0.456975\n",
       "2  Trudeau government gifts $650 millions oversea...  -0.283957\n",
       "3  Thai food is HOT tonight (@ Pai in Toronto, ON...  -0.433962\n",
       "4  The iconic Zanzibar (pictured here) has been o...   0.568962"
      ]
     },
     "execution_count": 17,
     "metadata": {},
     "output_type": "execute_result"
    }
   ],
   "source": [
    "df = pd.read_csv('tweets_dataset.csv')\n",
    "df.head()"
   ]
  },
  {
   "cell_type": "markdown",
   "metadata": {},
   "source": [
    "## String Manipulation\n",
    "As part of these assignment, you have to remove elements from a string. There are a couple ways to do this. Here is how you can do it with Python's replace function.\n",
    "\n",
    "For this example, we will use the first tweet of the dataframe and we will access it using Pandas '.iloc' function, which lets us access rows by index number."
   ]
  },
  {
   "cell_type": "code",
   "execution_count": 18,
   "metadata": {},
   "outputs": [
    {
     "data": {
      "text/plain": [
       "\"Happy St. Patty's Fri-yay! - Drinking a Guinness Original Extra Stout (Canada / USA) @ EaDo - https://t.co/hpOsiqG0jK #photo\""
      ]
     },
     "execution_count": 18,
     "metadata": {},
     "output_type": "execute_result"
    }
   ],
   "source": [
    "tw = df.iloc[0]['tweet']\n",
    "tw"
   ]
  },
  {
   "cell_type": "markdown",
   "metadata": {},
   "source": [
    "### Python's replace Function\n",
    "Here will use the replace function to replace periods(.) in the tweet with nothing (''). The replace function takes 2 arguments: (1) What to replace, and (2) What to replace it with."
   ]
  },
  {
   "cell_type": "code",
   "execution_count": 19,
   "metadata": {},
   "outputs": [
    {
     "data": {
      "text/plain": [
       "\"Happy St Patty's Fri-yay! - Drinking a Guinness Original Extra Stout (Canada / USA) @ EaDo - https://tco/hpOsiqG0jK #photo\""
      ]
     },
     "execution_count": 19,
     "metadata": {},
     "output_type": "execute_result"
    }
   ],
   "source": [
    "tw.replace('.','')"
   ]
  },
  {
   "cell_type": "markdown",
   "metadata": {},
   "source": [
    "Please note, you don't need to do something as direct as this to clean your tweets. You can use pre-existing libraries for cleaning your tweets, such as nltk, an open-source natural language processing toolkit. For example, nltk has a method for removing stop words from strings that you may use. Alternatively, you may use the files provided to remove the stop words listed within it. "
   ]
  },
  {
   "cell_type": "markdown",
   "metadata": {},
   "source": [
    "## Exploratory Data Analysis"
   ]
  },
  {
   "cell_type": "markdown",
   "metadata": {},
   "source": [
    "Here is an example of how you can visually analyze your data. First I will define negative tweets as any tweets that have a sentiment score less than 0 and label this as 0, and define positive tweets as any tweets that have a sentiment score greater than 0 and label this as 1.\n",
    "\n",
    "To apply a function to a dataframe I can use the apply function. To define a function inline I can apply the lambda function. The lambda function will return 1 if the sentiment score is greater than 0 and 0 otherwise."
   ]
  },
  {
   "cell_type": "code",
   "execution_count": 20,
   "metadata": {},
   "outputs": [
    {
     "data": {
      "text/html": [
       "<div>\n",
       "<style scoped>\n",
       "    .dataframe tbody tr th:only-of-type {\n",
       "        vertical-align: middle;\n",
       "    }\n",
       "\n",
       "    .dataframe tbody tr th {\n",
       "        vertical-align: top;\n",
       "    }\n",
       "\n",
       "    .dataframe thead th {\n",
       "        text-align: right;\n",
       "    }\n",
       "</style>\n",
       "<table border=\"1\" class=\"dataframe\">\n",
       "  <thead>\n",
       "    <tr style=\"text-align: right;\">\n",
       "      <th></th>\n",
       "      <th>tweet</th>\n",
       "      <th>sentiment</th>\n",
       "      <th>score</th>\n",
       "    </tr>\n",
       "  </thead>\n",
       "  <tbody>\n",
       "    <tr>\n",
       "      <th>0</th>\n",
       "      <td>Happy St. Patty's Fri-yay! - Drinking a Guinne...</td>\n",
       "      <td>0.267517</td>\n",
       "      <td>1</td>\n",
       "    </tr>\n",
       "    <tr>\n",
       "      <th>1</th>\n",
       "      <td>Delicious fritters! (at @Copper_Kettle_ Cafe i...</td>\n",
       "      <td>0.456975</td>\n",
       "      <td>1</td>\n",
       "    </tr>\n",
       "    <tr>\n",
       "      <th>2</th>\n",
       "      <td>Trudeau government gifts $650 millions oversea...</td>\n",
       "      <td>-0.283957</td>\n",
       "      <td>0</td>\n",
       "    </tr>\n",
       "    <tr>\n",
       "      <th>3</th>\n",
       "      <td>Thai food is HOT tonight (@ Pai in Toronto, ON...</td>\n",
       "      <td>-0.433962</td>\n",
       "      <td>0</td>\n",
       "    </tr>\n",
       "    <tr>\n",
       "      <th>4</th>\n",
       "      <td>The iconic Zanzibar (pictured here) has been o...</td>\n",
       "      <td>0.568962</td>\n",
       "      <td>1</td>\n",
       "    </tr>\n",
       "  </tbody>\n",
       "</table>\n",
       "</div>"
      ],
      "text/plain": [
       "                                               tweet  sentiment  score\n",
       "0  Happy St. Patty's Fri-yay! - Drinking a Guinne...   0.267517      1\n",
       "1  Delicious fritters! (at @Copper_Kettle_ Cafe i...   0.456975      1\n",
       "2  Trudeau government gifts $650 millions oversea...  -0.283957      0\n",
       "3  Thai food is HOT tonight (@ Pai in Toronto, ON...  -0.433962      0\n",
       "4  The iconic Zanzibar (pictured here) has been o...   0.568962      1"
      ]
     },
     "execution_count": 20,
     "metadata": {},
     "output_type": "execute_result"
    }
   ],
   "source": [
    "df['score'] = df['sentiment'].apply(lambda x: 1 if x > 0 else 0)\n",
    "df.head()"
   ]
  },
  {
   "cell_type": "markdown",
   "metadata": {},
   "source": [
    "I will also define another column containing the length of the tweets called length:"
   ]
  },
  {
   "cell_type": "code",
   "execution_count": 21,
   "metadata": {},
   "outputs": [
    {
     "data": {
      "text/html": [
       "<div>\n",
       "<style scoped>\n",
       "    .dataframe tbody tr th:only-of-type {\n",
       "        vertical-align: middle;\n",
       "    }\n",
       "\n",
       "    .dataframe tbody tr th {\n",
       "        vertical-align: top;\n",
       "    }\n",
       "\n",
       "    .dataframe thead th {\n",
       "        text-align: right;\n",
       "    }\n",
       "</style>\n",
       "<table border=\"1\" class=\"dataframe\">\n",
       "  <thead>\n",
       "    <tr style=\"text-align: right;\">\n",
       "      <th></th>\n",
       "      <th>tweet</th>\n",
       "      <th>sentiment</th>\n",
       "      <th>score</th>\n",
       "      <th>length</th>\n",
       "    </tr>\n",
       "  </thead>\n",
       "  <tbody>\n",
       "    <tr>\n",
       "      <th>0</th>\n",
       "      <td>Happy St. Patty's Fri-yay! - Drinking a Guinne...</td>\n",
       "      <td>0.267517</td>\n",
       "      <td>1</td>\n",
       "      <td>124</td>\n",
       "    </tr>\n",
       "    <tr>\n",
       "      <th>1</th>\n",
       "      <td>Delicious fritters! (at @Copper_Kettle_ Cafe i...</td>\n",
       "      <td>0.456975</td>\n",
       "      <td>1</td>\n",
       "      <td>91</td>\n",
       "    </tr>\n",
       "    <tr>\n",
       "      <th>2</th>\n",
       "      <td>Trudeau government gifts $650 millions oversea...</td>\n",
       "      <td>-0.283957</td>\n",
       "      <td>0</td>\n",
       "      <td>140</td>\n",
       "    </tr>\n",
       "    <tr>\n",
       "      <th>3</th>\n",
       "      <td>Thai food is HOT tonight (@ Pai in Toronto, ON...</td>\n",
       "      <td>-0.433962</td>\n",
       "      <td>0</td>\n",
       "      <td>88</td>\n",
       "    </tr>\n",
       "    <tr>\n",
       "      <th>4</th>\n",
       "      <td>The iconic Zanzibar (pictured here) has been o...</td>\n",
       "      <td>0.568962</td>\n",
       "      <td>1</td>\n",
       "      <td>140</td>\n",
       "    </tr>\n",
       "  </tbody>\n",
       "</table>\n",
       "</div>"
      ],
      "text/plain": [
       "                                               tweet  sentiment  score  length\n",
       "0  Happy St. Patty's Fri-yay! - Drinking a Guinne...   0.267517      1     124\n",
       "1  Delicious fritters! (at @Copper_Kettle_ Cafe i...   0.456975      1      91\n",
       "2  Trudeau government gifts $650 millions oversea...  -0.283957      0     140\n",
       "3  Thai food is HOT tonight (@ Pai in Toronto, ON...  -0.433962      0      88\n",
       "4  The iconic Zanzibar (pictured here) has been o...   0.568962      1     140"
      ]
     },
     "execution_count": 21,
     "metadata": {},
     "output_type": "execute_result"
    }
   ],
   "source": [
    "df['length'] = df['tweet'].apply(len)\n",
    "df.head()"
   ]
  },
  {
   "cell_type": "markdown",
   "metadata": {},
   "source": [
    "Now, here we will use the hist plot from pandas to do simple visualizations of our two new columns. You could alternatively use other visualization libraries like matplotlib or seaborn to create more intricate plots.\n",
    "\n",
    "The following line is needed in notebooks to show plots inline."
   ]
  },
  {
   "cell_type": "code",
   "execution_count": 22,
   "metadata": {},
   "outputs": [],
   "source": [
    "import matplotlib.pyplot as plt\n",
    "\n",
    "%matplotlib inline"
   ]
  },
  {
   "cell_type": "markdown",
   "metadata": {},
   "source": [
    "First, lets plot the distribution of scores using pandas hist function."
   ]
  },
  {
   "cell_type": "code",
   "execution_count": 23,
   "metadata": {},
   "outputs": [
    {
     "data": {
      "text/plain": [
       "array([[<matplotlib.axes._subplots.AxesSubplot object at 0x000002726890F550>]],\n",
       "      dtype=object)"
      ]
     },
     "execution_count": 23,
     "metadata": {},
     "output_type": "execute_result"
    },
    {
     "data": {
      "text/plain": [
       "<Figure size 864x432 with 0 Axes>"
      ]
     },
     "metadata": {},
     "output_type": "display_data"
    },
    {
     "data": {
      "image/png": "[encoded data removed]",
      "text/plain": [
       "<Figure size 432x288 with 1 Axes>"
      ]
     },
     "metadata": {
      "needs_background": "light"
     },
     "output_type": "display_data"
    }
   ],
   "source": [
    "fig = plt.figure(figsize=(12,6))\n",
    "df.hist('score')"
   ]
  },
  {
   "cell_type": "markdown",
   "metadata": {},
   "source": [
    "From this, you can see that there are more negative tweets than positive tweets.\n",
    "\n",
    "Now let's plot the histograms of length split by the score value."
   ]
  },
  {
   "cell_type": "code",
   "execution_count": 24,
   "metadata": {},
   "outputs": [
    {
     "data": {
      "text/plain": [
       "array([<matplotlib.axes._subplots.AxesSubplot object at 0x0000027268C15048>,\n",
       "       <matplotlib.axes._subplots.AxesSubplot object at 0x0000027268D32FD0>],\n",
       "      dtype=object)"
      ]
     },
     "execution_count": 24,
     "metadata": {},
     "output_type": "execute_result"
    },
    {
     "data": {
      "image/png": "[encoded data removed]",
      "text/plain": [
       "<Figure size 432x288 with 2 Axes>"
      ]
     },
     "metadata": {
      "needs_background": "light"
     },
     "output_type": "display_data"
    }
   ],
   "source": [
    "df.hist('length',by='score')"
   ]
  },
  {
   "cell_type": "markdown",
   "metadata": {},
   "source": [
    "The distributions of length for both positive and negative are similar but the tail for positive tweets is more heavy than for negative tweets. A majority of the negative tweets are long."
   ]
  },
  {
   "cell_type": "markdown",
   "metadata": {},
   "source": [
    "## Machine Learning\n",
    "\n",
    "Now, lets use our two new plots to do some machine learning using scikit-learn. \n",
    "\n",
    "Note: Scikit-learn requires numerical inputs. You cannot pass the tweets directly into the a model. You have to first convert the tweets to some sort of numerical format. You are welcome to use the 'corpus' scores provided to convert your tweets into a corpus score, or you may use something more involved like the TF-IDF vectorizer from scikit-learn. The method that you use can have a great impact on your machine learning results.\n",
    "\n",
    "For the purposes of this tutorial, we will just use the length column to see if we can predict the score column.\n",
    "\n",
    "### Splitting features/target variables\n",
    "\n",
    "First, we will extract our features into the variable X, and our target into the variable y."
   ]
  },
  {
   "cell_type": "code",
   "execution_count": 25,
   "metadata": {},
   "outputs": [
    {
     "data": {
      "text/html": [
       "<div>\n",
       "<style scoped>\n",
       "    .dataframe tbody tr th:only-of-type {\n",
       "        vertical-align: middle;\n",
       "    }\n",
       "\n",
       "    .dataframe tbody tr th {\n",
       "        vertical-align: top;\n",
       "    }\n",
       "\n",
       "    .dataframe thead th {\n",
       "        text-align: right;\n",
       "    }\n",
       "</style>\n",
       "<table border=\"1\" class=\"dataframe\">\n",
       "  <thead>\n",
       "    <tr style=\"text-align: right;\">\n",
       "      <th></th>\n",
       "      <th>tweet</th>\n",
       "      <th>sentiment</th>\n",
       "      <th>score</th>\n",
       "      <th>length</th>\n",
       "    </tr>\n",
       "  </thead>\n",
       "  <tbody>\n",
       "    <tr>\n",
       "      <th>0</th>\n",
       "      <td>Happy St. Patty's Fri-yay! - Drinking a Guinne...</td>\n",
       "      <td>0.267517</td>\n",
       "      <td>1</td>\n",
       "      <td>124</td>\n",
       "    </tr>\n",
       "    <tr>\n",
       "      <th>1</th>\n",
       "      <td>Delicious fritters! (at @Copper_Kettle_ Cafe i...</td>\n",
       "      <td>0.456975</td>\n",
       "      <td>1</td>\n",
       "      <td>91</td>\n",
       "    </tr>\n",
       "    <tr>\n",
       "      <th>2</th>\n",
       "      <td>Trudeau government gifts $650 millions oversea...</td>\n",
       "      <td>-0.283957</td>\n",
       "      <td>0</td>\n",
       "      <td>140</td>\n",
       "    </tr>\n",
       "    <tr>\n",
       "      <th>3</th>\n",
       "      <td>Thai food is HOT tonight (@ Pai in Toronto, ON...</td>\n",
       "      <td>-0.433962</td>\n",
       "      <td>0</td>\n",
       "      <td>88</td>\n",
       "    </tr>\n",
       "    <tr>\n",
       "      <th>4</th>\n",
       "      <td>The iconic Zanzibar (pictured here) has been o...</td>\n",
       "      <td>0.568962</td>\n",
       "      <td>1</td>\n",
       "      <td>140</td>\n",
       "    </tr>\n",
       "    <tr>\n",
       "      <th>...</th>\n",
       "      <td>...</td>\n",
       "      <td>...</td>\n",
       "      <td>...</td>\n",
       "      <td>...</td>\n",
       "    </tr>\n",
       "    <tr>\n",
       "      <th>1597</th>\n",
       "      <td>@NatashaFatah. Is Tarek Fatah coming to Toront...</td>\n",
       "      <td>-0.375901</td>\n",
       "      <td>0</td>\n",
       "      <td>69</td>\n",
       "    </tr>\n",
       "    <tr>\n",
       "      <th>1598</th>\n",
       "      <td>RT @PlacesOnEearth: Moraine Lake, Canada https...</td>\n",
       "      <td>0.438022</td>\n",
       "      <td>1</td>\n",
       "      <td>64</td>\n",
       "    </tr>\n",
       "    <tr>\n",
       "      <th>1599</th>\n",
       "      <td>RT @BBCBreaking: Rock and roll legend Chuck Be...</td>\n",
       "      <td>-0.373625</td>\n",
       "      <td>0</td>\n",
       "      <td>129</td>\n",
       "    </tr>\n",
       "    <tr>\n",
       "      <th>1600</th>\n",
       "      <td>RT @CTVToronto: Toronto police searching for m...</td>\n",
       "      <td>-0.390022</td>\n",
       "      <td>0</td>\n",
       "      <td>126</td>\n",
       "    </tr>\n",
       "    <tr>\n",
       "      <th>1601</th>\n",
       "      <td>Oh ❤break. Rock+Roll legend Chuck Berry has di...</td>\n",
       "      <td>-0.792687</td>\n",
       "      <td>0</td>\n",
       "      <td>138</td>\n",
       "    </tr>\n",
       "  </tbody>\n",
       "</table>\n",
       "<p>1602 rows × 4 columns</p>\n",
       "</div>"
      ],
      "text/plain": [
       "                                                  tweet  sentiment  score  \\\n",
       "0     Happy St. Patty's Fri-yay! - Drinking a Guinne...   0.267517      1   \n",
       "1     Delicious fritters! (at @Copper_Kettle_ Cafe i...   0.456975      1   \n",
       "2     Trudeau government gifts $650 millions oversea...  -0.283957      0   \n",
       "3     Thai food is HOT tonight (@ Pai in Toronto, ON...  -0.433962      0   \n",
       "4     The iconic Zanzibar (pictured here) has been o...   0.568962      1   \n",
       "...                                                 ...        ...    ...   \n",
       "1597  @NatashaFatah. Is Tarek Fatah coming to Toront...  -0.375901      0   \n",
       "1598  RT @PlacesOnEearth: Moraine Lake, Canada https...   0.438022      1   \n",
       "1599  RT @BBCBreaking: Rock and roll legend Chuck Be...  -0.373625      0   \n",
       "1600  RT @CTVToronto: Toronto police searching for m...  -0.390022      0   \n",
       "1601  Oh ❤break. Rock+Roll legend Chuck Berry has di...  -0.792687      0   \n",
       "\n",
       "      length  \n",
       "0        124  \n",
       "1         91  \n",
       "2        140  \n",
       "3         88  \n",
       "4        140  \n",
       "...      ...  \n",
       "1597      69  \n",
       "1598      64  \n",
       "1599     129  \n",
       "1600     126  \n",
       "1601     138  \n",
       "\n",
       "[1602 rows x 4 columns]"
      ]
     },
     "execution_count": 25,
     "metadata": {},
     "output_type": "execute_result"
    }
   ],
   "source": [
    "df"
   ]
  },
  {
   "cell_type": "code",
   "execution_count": 26,
   "metadata": {},
   "outputs": [
    {
     "data": {
      "text/plain": [
       "['Happy',\n",
       " 'St',\n",
       " 'Pattys',\n",
       " 'Friyay',\n",
       " 'Drinking',\n",
       " 'a',\n",
       " 'Guinness',\n",
       " 'Original',\n",
       " 'Extra',\n",
       " 'Stout',\n",
       " 'Canada',\n",
       " 'USA',\n",
       " 'EaDo',\n",
       " 'https:tcohpOsiqG0jK',\n",
       " 'photo']"
      ]
     },
     "execution_count": 26,
     "metadata": {},
     "output_type": "execute_result"
    }
   ],
   "source": [
    "tw = df.iloc[0]['tweet'].replace('-','').replace('!','').replace('-','').replace('#','').replace('.','').replace(\"'\",'')\n",
    "tw = tw.replace('(','').replace(')','')\n",
    "tw = tw.replace('/','')\n",
    "tw = tw.replace('@','')\n",
    "tw = tw.split()\n",
    "tw"
   ]
  },
  {
   "cell_type": "code",
   "execution_count": 27,
   "metadata": {},
   "outputs": [],
   "source": [
    "X = df[['length']]\n",
    "y = df['score']"
   ]
  },
  {
   "cell_type": "markdown",
   "metadata": {},
   "source": [
    "### Splitting the dataset into training/testing sets\n",
    "\n",
    "Now we will split the set into a training and testing set using the sklearn's train_test_split function."
   ]
  },
  {
   "cell_type": "code",
   "execution_count": 28,
   "metadata": {},
   "outputs": [],
   "source": [
    "from sklearn.model_selection import train_test_split\n",
    "\n",
    "X_train, X_test, y_train, y_test = train_test_split(X,y,test_size=0.3)"
   ]
  },
  {
   "cell_type": "markdown",
   "metadata": {},
   "source": [
    "### Training the model\n",
    "\n",
    "Now, we will use our training set to train (fit) a Logistic Regression model from sklearn. The reshape argument is needed because we only have one feature. This converts the data into a 2D array."
   ]
  },
  {
   "cell_type": "code",
   "execution_count": 29,
   "metadata": {},
   "outputs": [
    {
     "data": {
      "text/plain": [
       "LogisticRegression(C=1.0, class_weight=None, dual=False, fit_intercept=True,\n",
       "                   intercept_scaling=1, l1_ratio=None, max_iter=100,\n",
       "                   multi_class='auto', n_jobs=None, penalty='l2',\n",
       "                   random_state=None, solver='lbfgs', tol=0.0001, verbose=0,\n",
       "                   warm_start=False)"
      ]
     },
     "execution_count": 29,
     "metadata": {},
     "output_type": "execute_result"
    }
   ],
   "source": [
    "from sklearn.linear_model import LogisticRegression\n",
    "\n",
    "model = LogisticRegression()\n",
    "model.fit(X_train,y_train)"
   ]
  },
  {
   "cell_type": "markdown",
   "metadata": {},
   "source": [
    "### Making predictions\n",
    "Now, we can use our trained model to make predictions.\n",
    "\n",
    "#### 1 sample prediction\n",
    "Here, we will predict the class of a tweet of length 300."
   ]
  },
  {
   "cell_type": "code",
   "execution_count": 30,
   "metadata": {},
   "outputs": [
    {
     "name": "stdout",
     "output_type": "stream",
     "text": [
      "Class 0\n"
     ]
    }
   ],
   "source": [
    "print('Class',model.predict([[300]])[0])"
   ]
  },
  {
   "cell_type": "markdown",
   "metadata": {},
   "source": [
    "#### Entire testing set\n",
    "To make predictions on the entire testing set, we can just pass it the entire testing set."
   ]
  },
  {
   "cell_type": "code",
   "execution_count": 31,
   "metadata": {},
   "outputs": [],
   "source": [
    "predictions = model.predict(X_test)"
   ]
  },
  {
   "cell_type": "markdown",
   "metadata": {},
   "source": [
    "### Evaluating the model performance\n",
    "\n",
    "We can get the accuracy of our model on the testing set by using functons from the sklearn metrics library. We can get the accuracy of the model using accuracy_score, the classification report using classification_report, and the confusion matrix using confusion_matrix."
   ]
  },
  {
   "cell_type": "code",
   "execution_count": 32,
   "metadata": {},
   "outputs": [
    {
     "name": "stdout",
     "output_type": "stream",
     "text": [
      "66.11226611226611\n"
     ]
    }
   ],
   "source": [
    "from sklearn.metrics import accuracy_score\n",
    "\n",
    "score = accuracy_score(y_test,predictions)\n",
    "\n",
    "print (score*100)"
   ]
  },
  {
   "cell_type": "code",
   "execution_count": 38,
   "metadata": {},
   "outputs": [
    {
     "name": "stdout",
     "output_type": "stream",
     "text": [
      "              precision    recall  f1-score   support\n",
      "\n",
      "           0       0.66      1.00      0.80       318\n",
      "           1       0.00      0.00      0.00       163\n",
      "\n",
      "    accuracy                           0.66       481\n",
      "   macro avg       0.33      0.50      0.40       481\n",
      "weighted avg       0.44      0.66      0.53       481\n",
      "\n"
     ]
    }
   ],
   "source": [
    "from sklearn.metrics import classification_report\n",
    "\n",
    "print(classification_report(y_test,predictions))"
   ]
  },
  {
   "cell_type": "code",
   "execution_count": 34,
   "metadata": {},
   "outputs": [
    {
     "name": "stdout",
     "output_type": "stream",
     "text": [
      "[[318   0]\n",
      " [163   0]]\n"
     ]
    }
   ],
   "source": [
    "from sklearn.metrics import confusion_matrix\n",
    "print (confusion_matrix(y_test,predictions))"
   ]
  },
  {
   "cell_type": "markdown",
   "metadata": {},
   "source": [
    "The accuracy score obtained is 66%. But from analyzing the confusion matrix and classification report we can see that the model predicted 0 for all the samples. The accuracy ended up being high due to a majority of the samples in the test set being negative. This is likely due to the length not being a good feature for discerning the sentiment of the tweet. A length of a tweet is not a good feature for discerning the sentiment score of a tweet by itself. For your assignment, you should extract features from the tweet itself to build a better predictive model."
   ]
  }
 ],
 "metadata": {
  "kernelspec": {
   "display_name": "Python 3",
   "language": "python",
   "name": "python3"
  },
  "language_info": {
   "codemirror_mode": {
    "name": "ipython",
    "version": 3
   },
   "file_extension": ".py",
   "mimetype": "text/x-python",
   "name": "python",
   "nbconvert_exporter": "python",
   "pygments_lexer": "ipython3",
   "version": "3.8.5"
  },
  "widgets": {
   "state": {},
   "version": "1.1.2"
  }
 },
 "nbformat": 4,
 "nbformat_minor": 1
}
